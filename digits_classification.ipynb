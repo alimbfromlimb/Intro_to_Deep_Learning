{
 "cells": [
  {
   "cell_type": "markdown",
   "metadata": {
    "slideshow": {
     "slide_type": "slide"
    }
   },
   "source": [
    "# MNIST digits classification with TensorFlow"
   ]
  },
  {
   "cell_type": "markdown",
   "metadata": {},
   "source": [
    "<img src=\"images/mnist_sample.png\" style=\"width:30%\">"
   ]
  },
  {
   "cell_type": "code",
   "execution_count": 62,
   "metadata": {},
   "outputs": [
    {
     "name": "stdout",
     "output_type": "stream",
     "text": [
      "We're using TF 1.2.1\n"
     ]
    }
   ],
   "source": [
    "import numpy as np\n",
    "from sklearn.metrics import accuracy_score\n",
    "from matplotlib import pyplot as plt\n",
    "%matplotlib inline\n",
    "import tensorflow as tf\n",
    "print(\"We're using TF\", tf.__version__)\n",
    "\n",
    "import sys\n",
    "sys.path.append(\"../..\")\n",
    "import grading\n",
    "\n",
    "import matplotlib_utils\n",
    "from importlib import reload\n",
    "reload(matplotlib_utils)\n",
    "\n",
    "import grading_utils\n",
    "reload(grading_utils)\n",
    "\n",
    "import keras_utils\n",
    "from keras_utils import reset_tf_session"
   ]
  },
  {
   "cell_type": "markdown",
   "metadata": {},
   "source": [
    "# Fill in your Coursera token and email\n",
    "To successfully submit your answers to our grader, please fill in your Coursera submission token and email"
   ]
  },
  {
   "cell_type": "code",
   "execution_count": 63,
   "metadata": {
    "collapsed": true
   },
   "outputs": [],
   "source": [
    "grader = grading.Grader(assignment_key=\"XtD7ho3TEeiHQBLWejjYAA\", \n",
    "                        all_parts=[\"9XaAS\", \"vmogZ\", \"RMv95\", \"i8bgs\", \"rE763\"])"
   ]
  },
  {
   "cell_type": "code",
   "execution_count": 91,
   "metadata": {
    "collapsed": true
   },
   "outputs": [],
   "source": [
    "# token expires every 30 min\n",
    "COURSERA_TOKEN = \"uzv6C6XtHd6UXH6m\"\n",
    "COURSERA_EMAIL = \"alimbualimbu@gmail.com\""
   ]
  },
  {
   "cell_type": "markdown",
   "metadata": {},
   "source": [
    "# Look at the data\n",
    "\n",
    "In this task we have 50000 28x28 images of digits from 0 to 9.\n",
    "We will train a classifier on this data."
   ]
  },
  {
   "cell_type": "code",
   "execution_count": 65,
   "metadata": {},
   "outputs": [],
   "source": [
    "import preprocessed_mnist\n",
    "X_train, y_train, X_val, y_val, X_test, y_test = preprocessed_mnist.load_dataset()"
   ]
  },
  {
   "cell_type": "code",
   "execution_count": 66,
   "metadata": {},
   "outputs": [
    {
     "name": "stdout",
     "output_type": "stream",
     "text": [
      "X_train [shape (50000, 28, 28)] sample patch:\n",
      " [[ 0.          0.29803922  0.96470588  0.98823529  0.43921569]\n",
      " [ 0.          0.33333333  0.98823529  0.90196078  0.09803922]\n",
      " [ 0.          0.33333333  0.98823529  0.8745098   0.        ]\n",
      " [ 0.          0.33333333  0.98823529  0.56862745  0.        ]\n",
      " [ 0.          0.3372549   0.99215686  0.88235294  0.        ]]\n",
      "A closeup of a sample patch:\n"
     ]
    },
    {
     "data": {
      "image/png": "[encoded data removed]",
      "text/plain": [
       "<matplotlib.figure.Figure at 0x7ff615c68c88>"
      ]
     },
     "metadata": {},
     "output_type": "display_data"
    },
    {
     "name": "stdout",
     "output_type": "stream",
     "text": [
      "And the whole sample:\n"
     ]
    },
    {
     "data": {
      "image/png": "[encoded data removed]",
      "text/plain": [
       "<matplotlib.figure.Figure at 0x7ff615420b38>"
      ]
     },
     "metadata": {},
     "output_type": "display_data"
    },
    {
     "name": "stdout",
     "output_type": "stream",
     "text": [
      "y_train [shape (50000,)] 10 samples:\n",
      " [5 0 4 1 9 2 1 3 1 4]\n"
     ]
    }
   ],
   "source": [
    "# X contains rgb values divided by 255\n",
    "print(\"X_train [shape %s] sample patch:\\n\" % (str(X_train.shape)), X_train[1, 15:20, 5:10])\n",
    "print(\"A closeup of a sample patch:\")\n",
    "plt.imshow(X_train[1, 15:20, 5:10], cmap=\"Greys\")\n",
    "plt.show()\n",
    "print(\"And the whole sample:\")\n",
    "plt.imshow(X_train[1], cmap=\"Greys\")\n",
    "plt.show()\n",
    "print(\"y_train [shape %s] 10 samples:\\n\" % (str(y_train.shape)), y_train[:10])"
   ]
  },
  {
   "cell_type": "markdown",
   "metadata": {},
   "source": [
    "# Linear model\n",
    "\n",
    "Your task is to train a linear classifier $\\vec{x} \\rightarrow y$ with SGD using TensorFlow.\n",
    "\n",
    "You will need to calculate a logit (a linear transformation) $z_k$ for each class: \n",
    "$$z_k = \\vec{x} \\cdot \\vec{w_k} + b_k \\quad k = 0..9$$\n",
    "\n",
    "And transform logits $z_k$ to valid probabilities $p_k$ with softmax: \n",
    "$$p_k = \\frac{e^{z_k}}{\\sum_{i=0}^{9}{e^{z_i}}} \\quad k = 0..9$$\n",
    "\n",
    "We will use a cross-entropy loss to train our multi-class classifier:\n",
    "$$\\text{cross-entropy}(y, p) = -\\sum_{k=0}^{9}{\\log(p_k)[y = k]}$$ \n",
    "\n",
    "where \n",
    "$$\n",
    "[x]=\\begin{cases}\n",
    "       1, \\quad \\text{if $x$ is true} \\\\\n",
    "       0, \\quad \\text{otherwise}\n",
    "    \\end{cases}\n",
    "$$\n",
    "\n",
    "Cross-entropy minimization pushes $p_k$ close to 1 when $y = k$, which is what we want.\n",
    "\n",
    "Here's the plan:\n",
    "* Flatten the images (28x28 -> 784) with `X_train.reshape((X_train.shape[0], -1))` to simplify our linear model implementation\n",
    "* Use a matrix placeholder for flattened `X_train`\n",
    "* Convert `y_train` to one-hot encoded vectors that are needed for cross-entropy\n",
    "* Use a shared variable `W` for all weights (a column $\\vec{w_k}$ per class) and `b` for all biases.\n",
    "* Aim for ~0.93 validation accuracy"
   ]
  },
  {
   "cell_type": "code",
   "execution_count": 67,
   "metadata": {},
   "outputs": [
    {
     "name": "stdout",
     "output_type": "stream",
     "text": [
      "(50000, 784)\n",
      "(10000, 784)\n"
     ]
    }
   ],
   "source": [
    "X_train_flat = X_train.reshape((X_train.shape[0], -1))\n",
    "print(X_train_flat.shape)\n",
    "\n",
    "X_val_flat = X_val.reshape((X_val.shape[0], -1))\n",
    "print(X_val_flat.shape)\n",
    "#X_train, y_train, X_val, y_val, X_test, y_test\n",
    "#X_test = X_test.reshape((X_test.shape[0], -1))"
   ]
  },
  {
   "cell_type": "code",
   "execution_count": 68,
   "metadata": {},
   "outputs": [
    {
     "name": "stdout",
     "output_type": "stream",
     "text": [
      "(50000, 10)\n",
      "[[ 0.  0.  0.  0.  0.  1.  0.  0.  0.  0.]\n",
      " [ 1.  0.  0.  0.  0.  0.  0.  0.  0.  0.]\n",
      " [ 0.  0.  0.  0.  1.  0.  0.  0.  0.  0.]] [5 0 4]\n"
     ]
    }
   ],
   "source": [
    "import keras\n",
    "\n",
    "y_train_oh = keras.utils.to_categorical(y_train, 10)\n",
    "y_val_oh = keras.utils.to_categorical(y_val, 10)\n",
    "\n",
    "print(y_train_oh.shape)\n",
    "print(y_train_oh[:3], y_train[:3])"
   ]
  },
  {
   "cell_type": "code",
   "execution_count": 69,
   "metadata": {
    "collapsed": true
   },
   "outputs": [],
   "source": [
    "# run this again if you remake your graph\n",
    "s = reset_tf_session()"
   ]
  },
  {
   "cell_type": "code",
   "execution_count": 70,
   "metadata": {},
   "outputs": [],
   "source": [
    "# Model parameters: W and b\n",
    "W = tf.get_variable(\"W\", shape = (784, 10), dtype=tf.float32) ### YOUR CODE HERE ### tf.get_variable(...) with shape[0] = 784\n",
    "b = tf.get_variable(\"b\", shape = (1, 10), dtype=tf.float32) ### YOUR CODE HERE ### tf.get_variable(...)"
   ]
  },
  {
   "cell_type": "code",
   "execution_count": 71,
   "metadata": {
    "collapsed": true
   },
   "outputs": [],
   "source": [
    "# Placeholders for the input data\n",
    "input_X = tf.placeholder(np.float32, (None, 784)) ### YOUR CODE HERE ### tf.placeholder(...) for flat X with shape[0] = None for any batch size\n",
    "input_y = tf.placeholder(np.float32, (None, 10)) ### YOUR CODE HERE ### tf.placeholder(...) for one-hot encoded true labels"
   ]
  },
  {
   "cell_type": "code",
   "execution_count": 72,
   "metadata": {},
   "outputs": [],
   "source": [
    "# Compute predictions\n",
    "    \n",
    "logits = input_X @ W + b ### YOUR CODE HERE ### logits for input_X, resulting shape should be [input_X.shape[0], 10]\n",
    "probas = tf.nn.softmax(logits) ### YOUR CODE HERE ### apply tf.nn.softmax to logits\n",
    "classes = tf.argmax(probas, 1) ### YOUR CODE HERE ### apply tf.argmax to find a class index with highest probability\n",
    "\n",
    "# Loss should be a scalar number: average loss over all the objects with tf.reduce_mean().\n",
    "# Use tf.nn.softmax_cross_entropy_with_logits on top of one-hot encoded input_y and logits.\n",
    "# It is identical to calculating cross-entropy on top of probas, but is more numerically friendly (read the docs).\n",
    "loss = tf.reduce_mean(tf.nn.softmax_cross_entropy_with_logits(labels = input_y, logits = logits), axis = 0)### YOUR CODE HERE ### cross-entropy loss\n",
    "\n",
    "# Use a default tf.train.AdamOptimizer to get an SGD step\n",
    "step = tf.train.AdamOptimizer(0.01).minimize(loss) ### YOUR CODE HERE ### optimizer step that minimizes the loss"
   ]
  },
  {
   "cell_type": "code",
   "execution_count": 88,
   "metadata": {
    "scrolled": false
   },
   "outputs": [
    {
     "data": {
      "text/html": [
       "<img src=\"data:image/jpeg;base64,/9j/4AAQSkZJRgABAQAAAQABAAD/2wBDAAIBAQEBAQIBAQECAgICAgQDAgICAgUEBAMEBgUGBgYFBgYGBwkIBgcJBwYGCAsICQoKCgoKBggLDAsKDAkKCgr/2wBDAQICAgICAgUDAwUKBwYHCgoKCgoKCgoKCgoKCgoKCgoKCgoKCgoKCgoKCgoKCgoKCgoKCgoKCgoKCgoKCgoKCgr/wAARCAEgA2ADASIAAhEBAxEB/8QAHwAAAQUBAQEBAQEAAAAAAAAAAAECAwQFBgcICQoL/8QAtRAAAgEDAwIEAwUFBAQAAAF9AQIDAAQRBRIhMUEGE1FhByJxFDKBkaEII0KxwRVS0fAkM2JyggkKFhcYGRolJicoKSo0NTY3ODk6Q0RFRkdISUpTVFVWV1hZWmNkZWZnaGlqc3R1dnd4eXqDhIWGh4iJipKTlJWWl5iZmqKjpKWmp6ipqrKztLW2t7i5usLDxMXGx8jJytLT1NXW19jZ2uHi4%2BTl5ufo6erx8vP09fb3%2BPn6/8QAHwEAAwEBAQEBAQEBAQAAAAAAAAECAwQFBgcICQoL/8QAtREAAgECBAQDBAcFBAQAAQJ3AAECAxEEBSExBhJBUQdhcRMiMoEIFEKRobHBCSMzUvAVYnLRChYkNOEl8RcYGRomJygpKjU2Nzg5OkNERUZHSElKU1RVVldYWVpjZGVmZ2hpanN0dXZ3eHl6goOEhYaHiImKkpOUlZaXmJmaoqOkpaanqKmqsrO0tba3uLm6wsPExcbHyMnK0tPU1dbX2Nna4uPk5ebn6Onq8vP09fb3%2BPn6/9oADAMBAAIRAxEAPwD9/KKKKACiiigAooooAKKKKACiiigAooooAKKKKACiiigAooooAKKKKACiiigAooooAKKKKACiiigAooooAKKKKACiiigAooooAKKKKACiiigAooooAKKKKACiiigAooooAKKKKACiiigAooooAKKKKACiiigAooooAKKKKACiiigAooooAKKKKACiiigAooooAKKKKACiiigAooooAKKKKACiiigAooooAKKKKACiiigAooooAKKKKACiiigAooooAKKKKACiiigAooooAKKKKACiiigAooooAKKKKACiiigAooooAKKKKACiiigAooooAKKKKACiiigAooooAKKKKACiiigAooooAKKKKACvPfjt%2B1J8FP2b5NGsfil4g1Maj4ilnTQNB8OeF9R1zVNR8lVed4bHTbee5kjiVkMkixlI96biu5c%2BhV4N%2B0P8D/j5/wANJ%2BDv2tv2bLLwfrWueH/B2seFNX8KeOdcutLtLywv7mwuxcQXtraXj288U2noCpt3WVJSCUKK1ABpf/BTL9izWLvxPb2nxXv0h8FWsk/jLUrvwXrEFjoIS0iu9l5dy2iwWsrQzRskMjrJIWKorMrKL2n/APBQ/wDZK1HwBrXxFTx/q9vB4f1ay0vVdE1DwNrNrrkV5ebfscC6PNaLqEr3AYGER27eaAxTcFYjy2b9gH4y%2BMf2a/jn8NfGHinwppHin4o/FS38daHc6U1xeWFpeW0OiywQ3IkihkkiN3pRRwoyYHGDuJVaPi79i/8AaV%2BLmr/Ef45fG34S/CjWvFnjWx8KaPp/gKy%2BI2s2Wm6fY6Hcaldw3qa7b6al5DqDXOqTOksVoPJSKNFZiWcgHsviH9vv9mzwv4a8OeI9XvvG3meK0v5NE8P2vwm8SXGuSRWUscV3NJpMWntf28MLzQq8s0CIpmiy37xM%2Bmaz8RPBHhv4e3XxX8T%2BJbbSvDljo76rf6vqrfZYbSySIzPPMZdvlKsYLNvxtAOcYNfGHin9hH9s/WPgX4X8Nay3hfxV470a58RHRfGV/wDHbxNpGr%2BCLW%2BuUktLO11q1sJLzXIYkjhEy3qw/aTbReYCFGPUfjR/wTotfj1%2Bzb4n%2BHHxD%2BOfjW78d%2BMPhfH4Z17xS3jbWho818tpDE2oJoS3y2FuzzQLK3kRRSEPIBIrSM5AOkg/4KUfsZf8K58V/FbWPite6Jo3giysr7xQ/ifwdq%2Bk3NlZXkxhtb37LeWsVxJaSyK6pcxxtC3luQ%2BEYjj/AI3f8FZP2d/hn8ENU%2BMfgPRfFXiqbQfiD4X8L674Y/4QXXbHU7A6zqVrax3T2cmnNdeV5Fw88DeT5d48aW8MhknjB8r1T/gmJ8ZPHfwq8faR4i8DeG9G8Y%2BI9D0fR7DxDqv7RfjPxut3aWusW%2BoTRyf27AfsEZ8likUSzHe%2BGkxknv8A9qH9gz40/GD4g/F/4g%2BBfEPheOTxfB8LbzwlZ6tfXMSvf%2BE/EdzrUsN40dvJ5ENwGt4VljEzrl2MfyKrgHqFh/wUE/Zb1H4m2XwZh8T%2BJo/Fd5oun6xLoF38N9egudO0%2B9adILu/SSyU6dDut5VeS68pYiFEhQum6j4a/wCCmH7FPi3wZ4s%2BIWkfGC4TR/Bfgi68Zaxe6h4S1W0Fx4et0Z5tWsVntUbVLNVQ4nsxPGxZArEugbB0P9kP4ofEP4mfG74g/G9fD2gxfGj4O%2BHfCF1Y%2BE9duNRl0u4tE11Ltlnns7XzYwNViMT7FZikm6OPA3fN37Y37Kn7UOj/ALDHxS%2BJv7TF34AtIfhD%2BxT8QfBHhePwFqF5cNrzXukWxn1G6W5toBYqE0i3CWcbXAVppCZ22oKAPrPw9/wUl/Yy8TaHrHiPT/i1dQWehppU1/JqnhLVbJmtNSu1s7HUIUuLVGubCWdgovoQ9qoDO0qorMPT9E%2BLvw88R/FLX/gvofiH7T4k8LaXp%2Boa/YR2k22zgvmuBa7pinlF3%2ByzHy1cyKoRmVVkjLfJOofsz%2BIPFegeKfjb/wAFIvF/wz8J%2BBbf9nu5%2BHUlx4f8QTLay6beyQyXmq3k17BbpYOTBbCG2QzCAmT/AEiQsuOw/wCCPngP4u2f7I9r8f8A9pDUDf8AxJ%2BL15H4n8V6g9nJbtJCLSCy01fKl%2BeH/iX2lpI0TYKSzTZAYtkA%2BqqKKKACiiigAooooAKKKKACiiigAooooAKKKKACiiigAooooAKKKKACiiigAooooAKKKKACiiigAooooAKKKKACiiigAooooAK8R0j/AIKMfse6ld69Z6n8Urzw83hzw5c%2BINQk8a%2BEdV0GObSbd0jnv7WTUrWBb63R5IlaW2MqAyxjOXXPtN7FczWcsNndCCZ4mWKYx7/LYjhtp64POO9fmJq//BHL9uX4v6t4X1z43fHHQ31vw14P1Cz1DxRqHxW8TeJx4h1v7ZpV9a6idLvoobLSbaS50xfPsLIBRHJtWWQKgUA%2B2X/b/wD2YbX4aN8WNY8QeKtK0ttcg0axs9c%2BGWv2GqanfzIZIYLLTbixS9v2kQM6/Z4ZAyo7AkIxHReA/wBqz4H/ABH1%2By8J%2BHPEOqQ6vf8AhSfxJDpGteFdS0y7TTYbv7JLLLDeW8UkDrP8hhkVZe%2BzbzXk3xO%2BDn7bvxib4e/G3XPBvwq0P4h/Cjx1NrHh/wAM2vjjUr/Rdcs7jSbvTLmO4vn0qGaxmKXskkbpa3AjMQU%2BYJGxV%2BJPwG/bg1/4y%2BHf2mvA%2BjfCu08WX3ww1XwX4x0LUvFepSWGkLcX8N1a39lcJpwk1AxCN1kt5YrQSlxiWLHIB3Gk/wDBRv8AZA8R694F8LeFfiNqus6n8SfBuleLfBunaJ4H1m9nvND1F9lrqMiQWjNa2%2B7HmSTiNbcMpm8oMCdj4a/tufs3fFf4jXPwn8M%2BL9Ws9ft9LudThsvE/gzVtEW/sbeRI57uyl1G1gjv4I3liDy2zSIvmISQGUnyj9hT9hL4sfsw6/8ADjWfHniDw1dnwd%2Byl4R%2BGN%2B%2BkXM8rNq2lvM1zNF5kEe61bemxmKu235o0wK8a%2BGn/BKv9sbxP8UfC/ib9qb4w2eqRaf4A8V%2BF/GniaD4v%2BJNavPEUur2KW39p2umX0Men6EcqWNpaKUXKgTOI1WgD6l8J/8ABRf9kfxrosfirQfHeuf2Hcarpen6f4lvfh/rdrpWoy6lex2VlJaX09mlteQS3M0UYuIJHhBlQs4VgT6X4W%2BLvw88a/EDxT8LvC/iH7XrnguSzj8T2iWkwWxkuoPtEEZlZBG7tCVkKIzMiyRlgokTd8w%2BOPAnxF8K/wDBPbxp8CP%2BChnif4VeCPAWg/DSLQLb4meHfFt2GadI0trXUntLqzgTTZlmFvJDBHcXTGcoiOTtDdr/AMEr/h98WPDf7ImlfFX9oqwS3%2BJ3xYvpfHXxEhW3aL7Pf36xmG02N8yfZbGOys9pyQLXBoA%2BjaKKKACiiigAooooAKKKKACiiigAooooAKKKKACiiigAooooAKKKKACiiigAooooAKKKKACiiigAooooAKKKKACiiigAooooAKKKKACvF/j14/8A2i/%2BGi/AvwI%2BAvjPwV4fTX/BXiXXtX1Pxf4Lu9aJOnXeh28MMMdvqVj5Yb%2B1JWZmZ8%2BWgAXkn2ivCviNrkdj/wAFK/hBokoH%2Bn/BT4hmNu%2B%2BPVvBpx/3yWP4Um0ty4QlUdoro39yu/wL/wDwg/8AwUL/AOjoPgz/AOGH1b/5qKP%2BEH/4KF/9HQfBn/ww%2Brf/ADUV7NRTIPGf%2BEH/AOChf/R0HwZ/8MPq3/zUUf8ACD/8FC/%2BjoPgz/4YfVv/AJqK9mooA8Z/4Qf/AIKF/wDR0HwZ/wDDD6t/81FH/CD/APBQv/o6D4M/%2BGH1b/5qK9mooA8Z/wCEH/4KF/8AR0HwZ/8ADD6t/wDNRR/wg/8AwUL/AOjoPgz/AOGH1b/5qK9mooA8Z/4Qf/goX/0dB8Gf/DD6t/8ANRR/wg//AAUL/wCjoPgz/wCGH1b/AOaivZqKAPGf%2BEH/AOChf/R0HwZ/8MPq3/zUUf8ACD/8FC/%2BjoPgz/4YfVv/AJqK9mrmvHd/4U0u7TVvHt/YWuh6bot/qGpXOrTJHaW0cPklp5WkIRERDISzcKMkkdaTaSuyoQnUmoQTbbSSSu23okkrtttpJJNttJJtpHn3/CD/APBQv/o6D4M/%2BGH1b/5qKP8AhB/%2BChf/AEdB8Gf/AAw%2Brf8AzUVX/wCGv/8AgnB/0dF8Ef8AwttH/wDjtH/DX/8AwTg/6Oi%2BCP8A4W2j/wDx2uX6/gP%2Bf0P/AAOH/wAke9/qlxZ/0LsR/wCE9f8A%2BUFj/hB/%2BChf/R0HwZ/8MPq3/wA1FH/CD/8ABQv/AKOg%2BDP/AIYfVv8A5qK2vhp8Yv2N/jRrsvhb4O/FP4Z%2BLNTt7RrqfTvDWuadfzxwKyo0rRwOzBAzopYjALqM5IrB/aM%2BP3wS/Zp8cfDbwT4w%2BEWqak/xJ8S3WjWE/hrwNd6obN4NOub0ySR2VtM%2BCLfZjAOGeT/VwysnRTq0q0eanJSXdNNfem0eTjMDjsur%2BxxdKdKdk%2BWcZQlZ7PlnGErPo7WfRsk/4Qf/AIKF/wDR0HwZ/wDDD6t/81FH/CD/APBQv/o6D4M/%2BGH1b/5qKy9D/a//AGOfFXhrV/GPgzwz4j17S9D16TRr698PfBXX9QR76Ka6gmig%2Bzac5uhFLZXEcrw70hZUEjKZY99fxD%2B2R%2Bxn4SE/iLXtZ8NN4aPhbwprWm6tpeiXl9Pex%2BIdQurDTNkEFkwdJ57dUjMckkhZm8yKFVjeWzlNz/hB/wDgoX/0dB8Gf/DD6t/81FH/AAg//BQv/o6D4M/%2BGH1b/wCaitv4VfFX9mH406HYa74Bn0d/7Sv76xtNN1fQ30zUPtVk7Jd272V5FFcxSwsp3xvGrKMMRggnzL4y/tVaJ8LfjDqvhHSf2btE1bwh4P1Lw3p/xB8Vyaqltc6Xca3drb2wtbL7I4vFhEtvPcM88GyKcGMTurRgA7L/AIQf/goX/wBHQfBn/wAMPq3/AM1FH/CD/wDBQv8A6Og%2BDP8A4YfVv/moqn%2B0h8Ur74XeNfDPwh%2BCH7Nfh7xx4z8TaNrGtwaTqmsJo9tHpmmfZEupftC2lyWmM2oWMMcXlhWafLSRqhavM4v%2BCgXw68UJo/xF%2BF/7OGlax8NH0rwZfeKfFt7qMdpe6YviZ4vsIgsRayLdCGK5tZ7ktPB5cU4MYndWQAHrH/CD/wDBQv8A6Og%2BDP8A4YfVv/moo/4Qf/goX/0dB8Gf/DD6t/8ANRXBeB/2tI/HHxKh8O2f7K%2BgR%2BG/E2r%2BKtE%2BG2v/ANvRm41rVtClnhngurU2YWxinazvHgmWa43R2%2B6RIi6odbwB8Xfix461jx78Jl/ZP%2BGlt8RfAh0ia40xfiBNLodzbagkrp/xMV0Xz4rhFhkLwNZnAeBg%2B2UMADp/%2BEH/AOChf/R0HwZ/8MPq3/zUUf8ACD/8FC/%2BjoPgz/4YfVv/AJqK8l0b9szxvqf7L3gb9qCT9jLwR/Znin4nWfhrVIbbx2ZI7XTbzxLDoVnq9nI2ko16s5nju0heO3/csuZAxxXYeOP2pfh3pH7Xdn%2ByZ4O8DfDCS/h/s467N4w8cQaNeyNdln%2Bz6VYiznk1S4it0E8iFoEAngUSEu/lgHVf8IP/AMFC/wDo6D4M/wDhh9W/%2Baij/hB/%2BChf/R0HwZ/8MPq3/wA1FeceB/23Ph58R/FHxIPgb4Q%2BAda0T4eWWvu2j6N4xguvGWpS6TPLbSlNBSz/AHVvNcQTRwSvdbpP3TeWFlGOM8B/8FQvhB4p%2BCXiv4tah8JvhlcDQ9W0HS9I1Pwl8RbbU/Dl9e6r922uNXksbdbOS0X99eqYZPs8JRx5rMI6APev%2BEH/AOChf/R0HwZ/8MPq3/zUUf8ACD/8FC/%2BjoPgz/4YfVv/AJqK8S%2BP/wDwUQ8I/s%2B/CXwN8Q/EXwn%2BC1y/jPRNe1WLV4vi1GvhiddOeER2On6udKP9oajdpOHt7T7PFv8As12A/wC5y/Zp%2B2F4A1/9pXSP2cvCXwr%2BHthfyWelTeIbPx940t9F1mGa9gF01lp%2BmraTvqNzb2zRyzIXgRfOiVZHJfywDuv%2BEH/4KF/9HQfBn/ww%2Brf/ADUUf8IP/wAFC/8Ao6D4M/8Ahh9W/wDmorz3xf8AtVav8Gvjf4m8CfHz9mb4f6X4R8J/CvW/iBrnizwx4xm1O50/SbGZEgFxZTaRbKktyounRUnkA%2BwzjccKWvfDL9rDwX4l%2BAXiP48eN/hd8NGTSbuCx0vQPhv48tvE13dalOUjg0icpZ28VtqT3EsFv5CvMgeUfvSo3UAdp/wg/wDwUL/6Og%2BDP/hh9W/%2Baij/AIQf/goX/wBHQfBn/wAMPq3/AM1FeO%2BNv28bbwV%2BxB4I/bZ1f9nr4W6XY%2BI9Ee71fw34m%2BJS6fd/bgjPFpWkN/ZTrq97MIp1ihItmkZEA%2B%2BxT1S5%2BLF3p/7WvhP9n3Vf2a9AtfDfjLwTqeuaT4pm1VRfx3Fi1gJrWbTvse2MYv0xJ9pJ3RsPLxhqAL3/AAg//BQv/o6D4M/%2BGH1b/wCaij/hB/8AgoX/ANHQfBn/AMMPq3/zUVynhD9p7Qfil%2B0148/Zz%2BFH7PGg38fhTwnNfaH4q1XVFtbLXNVguntLmyAjtJmht4bgeQ90BIwmiuUEB8kGSn8JPjX8d/i5Y/Emw0v9j74S22s/DvxvF4dZpfihdHSdSYWEF3dyJef8I%2BJUMBuYoCv2dlaRJ13qYsMAdv8A8IP/AMFC/wDo6D4M/wDhh9W/%2BaiqHgfxx%2B1Z4O/as8OfBH43fEf4e%2BJtG8TfD3xDrkM3hX4eX2i3VpdabfaJborPcavfJLG6apKSoRGDRIQ2Mgyfsx/E6P8AaQ/Y70H9pfV/g1o/g6/8TeH59X0yw0nUPtyR2paVrK6iumtrZ2Wa3EFwMxIVE20g7cm344/5SF/C/wD7Iz48/wDTt4QoA9mooooAKKK%2BUP8AgttH%2Bz7/AMO0Pild/tCXPhSKC18K6jN4SfxZc28cY10WNx9j%2BzeeQGuwS5iC5fcMqMjIAPq%2BivlP9ub4vfs9/F34M%2BB9cm%2BJ/hDxR8JT8S9Bn%2BKd5a61a3uknQZkuGtpL50dovsL3osC7SHyWjDF8x76%2BTfEzfAX/hVOkf8ADSB07/hUX/CIfFr/AIUP/an/AB6/av8AhJE/sP8AsvP/AC%2B/2dt/snyf3/2ff9l43UAfq9Xzj8JvFX7d/wAddH17x34X%2BN/wk0DS7f4heKtD0vSr/wCD%2BqX9xFa6Xr1/pkLS3CeIoFlkeOzV2ZYo13OQFAAr1TwLd/G2x/Zx8PXeoaDp2qfEGPwlYHUdP1zVnsLafU/s8fnrLcQ29w0Q8zf8ywyc/wANcL/wTpuPEt3%2BzdfXXjLSbGw1eT4t/ENtTsdM1F7u2t5z4z1rzI4p3hhaZA2QHaKMsACUXOAAXv8AhB/%2BChf/AEdB8Gf/AAw%2Brf8AzUUf8IP/AMFC/wDo6D4M/wDhh9W/%2BaivZqKAPGf%2BEH/4KF/9HQfBn/ww%2Brf/ADUUf8IP/wAFC/8Ao6D4M/8Ahh9W/wDmor2aigDxn/hB/wDgoX/0dB8Gf/DD6t/81FH/AAg//BQv/o6D4M/%2BGH1b/wCaivZqKAPGf%2BEH/wCChf8A0dB8Gf8Aww%2Brf/NRR/wg/wDwUL/6Og%2BDP/hh9W/%2BaivZqKAPGf8AhB/%2BChf/AEdB8Gf/AAw%2Brf8AzUUf8IP/AMFC/wDo6D4M/wDhh9W/%2BaivZqKAPGf%2BEH/4KF/9HQfBn/ww%2Brf/ADUUf8IP/wAFC/8Ao6D4M/8Ahh9W/wDmor2aigDxn/hB/wDgoX/0dB8Gf/DD6t/81FH/AAg//BQv/o6D4M/%2BGH1b/wCaivZqKAPGf%2BEH/wCChf8A0dB8Gf8Aww%2Brf/NRR/wg/wDwUL/6Og%2BDP/hh9W/%2BaivZqKAPGf8AhB/%2BChf/AEdB8Gf/AAw%2Brf8AzUUf8IP/AMFC/wDo6D4M/wDhh9W/%2BaivZqKAPGf%2BEH/4KF/9HQfBn/ww%2Brf/ADUUf8IP/wAFC/8Ao6D4M/8Ahh9W/wDmor2aigDxn/hB/wDgoX/0dB8Gf/DD6t/81FH/AAg//BQv/o6D4M/%2BGH1b/wCaivW9c17Q/DGkXGv%2BJdZtNPsLSMyXV7fXCwwwoOrO7kKo9ya%2BaPGf/BZT/gnp4L8TzeHJPjdJq8NkQNU1vw3oN5qWnWGThfMubeJ0YNg4MZccHpXLicdgsEk8RUjC%2B12l/X3fM9/I%2BFeJ%2BJpSjlGCq4jl%2BL2dOU0vVpWTfROV30izvP8AhB/%2BChf/AEdB8Gf/AAw%2Brf8AzUUf8IP/AMFC/wDo6D4M/wDhh9W/%2BaisC/8A%2BCr3/BOqw8Cy/EN/2tfCctjFjNrbXbSX7EjIC2Sqbg/hHx3xXE2X/BRn9qP4rltf/ZX/AOCYvjvxZ4YH%2Bp1/xf4nsvC5u/SSCC7V2liI5Dgj3ArmnnOWRaUaim3raF5u3e0FKy83Y9rDeGvHFeMp1cFLDwi%2BVzxDjhYc38qniZUVKXlHnfe256r/AMIP/wAFC/8Ao6D4M/8Ahh9W/wDmoo/4Qf8A4KF/9HQfBn/ww%2Brf/NRXmJ/bc/4KI6X/AKR4m/4JE%2BIIrcffbSvizpN7KPpGiAn86B/wVC8f6P8AufGn/BMP9pGCZfvrofgeLUk/B0nUGo/tvL18TlH1p1F/7Yzf/iGHGE/4EKNX/r3i8HP8sVE9O/4Qf/goX/0dB8Gf/DD6t/8ANRR/wg//AAUL/wCjoPgz/wCGH1b/AOaivMT/AMFYra5/0XRv%2BCd37UVzeH/l1f4TGPb7szXGFHvzSH9vv9tLxV%2B7%2BFf/AASd%2BIV07fcPi7xXp%2BhqPc%2Bbvx9KP7by1/DJy9IVH%2BVMP%2BIXcbQ1r0KdJd6mJwlNffLFvT5Hp/8Awg//AAUL/wCjoPgz/wCGH1b/AOaij/hB/wDgoX/0dB8Gf/DD6t/81FeYj4z/APBY3Vv9Nsf2LvhZpMTfdstU%2BIrzzJ/vPCuw/hS/8LV/4LMf9GpfBv8A8Lq5/wDiaP7Xo9KVX/wVIP8AiHWYrR5hgU/%2Bw2h%2Bia%2B5v1PTf%2BEH/wCChf8A0dB8Gf8Aww%2Brf/NRR/wg/wDwUL/6Og%2BDP/hh9W/%2BaivMv%2BFq/wDBZj/o1L4N/wDhdXP/AMTR/wALV/4LMf8ARqXwb/8AC6uf/iaP7Xpf8%2Bav/guX%2BYf8Q7x//QxwP/hbR/8AkT03/hB/%2BChf/R0HwZ/8MPq3/wA1FH/CD/8ABQv/AKOg%2BDP/AIYfVv8A5qK8y/4Wr/wWY/6NS%2BDf/hdXP/xNH/C1f%2BCzH/RqXwb/APC6uf8A4mj%2B16X/AD5q/wDguX%2BYf8Q7x/8A0McD/wCFtH/5E9N/4Qf/AIKF/wDR0HwZ/wDDD6t/81FH/CD/APBQv/o6D4M/%2BGH1b/5qK8y/4Wr/AMFmP%2BjUvg3/AOF1c/8AxNH/AAtX/gsx/wBGpfBv/wALq5/%2BJo/tel/z5q/%2BC5f5h/xDvH/9DHA/%2BFtH/wCRPTf%2BEH/4KF/9HQfBn/ww%2Brf/ADUVb/ZW%2BI3xp8Yax8UPAnx01/wvq2qeAfiFFodnqvhPw1c6Tb3VrLoOj6mrPb3F7eMsiyajKhYS7SsaHapznyf/AIWr/wAFmP8Ao1L4N/8AhdXP/wATXQf8E7NV%2BM2t658edU/aD8KaNofi%2BX4zQf2vpfh%2B%2Ba5tIMeEfDYi8uRgC2YRGxz0ZmHaunDY6GKm4qnOOl/eg4r7318jx874UxORYVV6mKw1VN8tqOIp1ZbN3cYJNR01ltdpdT6TooortPlwooooAKKKKACiiigAooooAKKKKACiiigAooooAKKKKACiiigAooooAK%2BV/wBo7Xf7I/4K3fsvafvx/anw3%2BJtrj1wfDU2P/IOfwr6or4m/bn1g6D/AMFhf2Jr9nwk2m/Em0cdm86x0hFH/fRB/CuTGz9nh%2Bbzj/6XFfqfQcMYX67m6o96df71h68l%2BMT7ZooorrPnwooooAKKKKACiiigAooooAK5/wAVaBoXivWE8LeKdFtNS0zUvD%2BoWuo6dqFss0F1BI1ukkUkbgq6MpKsrAggkEYNdBXKfErx14V%2BF8V18S/HWqfYdE8O%2BFNV1PWL3yHl%2Bz2tv5EssmyNWd9qIx2qpY4wATxUzcFBuW1ne%2B1ut/K17h7V0P3qly8ut72tbW97q1rXvdWte6tdcj/wwP8AsK/9GWfCX/w3Omf/ABij/hgf9hX/AKMs%2BEv/AIbnTP8A4xXkn/D83/gll/0dF/5ZOuf/ACFR/wAPzf8Agll/0dF/5ZOuf/IVeD9e4V/5%2BUP/ACn/AJGv/EUsT/0PZ/8AhZV/%2BaD3z4afsyfs2/BfXZfFPwd/Z78D%2BE9TuLRrWfUfDXhOzsJ5IGZXaJpII1YoWRGKk4JRTjIFZP7RXwH8W/F7xB8O/HPw%2B%2BIWneHde%2BHXjKTXdPm1jw9JqdpdpNpd/pk9vJDHdWzgmK/d0kWUbXjQlXXKnnf2aP8AgpB%2Bxf8Atg%2BO7v4afs6fGX/hItbsdIk1O6sv%2BEd1G02WqSxRNJvureNDh5ohtDFvmzjAJHoHxF%2BNvhD4W%2BOPBngjxdb3kJ8c6nd6dpOqBI/skN3b2M98YZ3ZwyF7e1uXQhWU%2BQwJUld3rYOpgqtDmwri4XfwWtfr8NlfuRLOp5%2B/rcsS8Q3pzupKo/d0tzSnN6X25tL7I8H8df8ABNebxX8CPB3wWh%2BJfhvUIfCnxA1zxLcWPjb4fDWdD1ldSuNSm8i60w3kQleA6gGikaVlWWBZDGchVx/hj/wSgj%2BG/g7wj4QT48m9Twp4Y%2BGWjpO3hRYvtI8IeIbzWRLsS42x/avtQg2KMQeXvHmA%2BWvS3v8AwVa/Zz0fUvhXB4l0PWdIs/jBaaPceEr3VtY0O3mK6rdC1sN%2BnvqQ1FxLI8BLwWsqRrOrSNHsm8vI8J/8FKbHRLC71j402BjFrefEsQab4a8PPLJfReHvHKeGrCKKSS8z9rnE9onleUUmmnZxLbIgifqJPaPgt8CfEXwX1vxNc6b47sr3T/Ffj3VfEupWs%2Bhus0f2tIhHbxSi42r5bRks7I3mBsBYyNx4X4zfsOa38UvjFqvi7SPjFBpHg/xhqXhvUPiD4Tl8NG5udUuNEu1uLc2t79pQWazCK3guFeCffFABGYHZnNr9mH9r7xX8bfiN8TfCPxB%2BEWueED4Q8fWHhzSdF1DRvPv4DNoNlqTNfS2M93ahS08m2dJRDtMSFvNODzX7Z/7X/wAcfgr4o8bx/BvSvC0mmfCL4Qf8LH8dweI9Oubi41qyM18I9OsXhuYVs5mi0q/P2iVZ1DmAeVgswAO0%2BOn7Nnxn%2BJPi/QPi58NPjzovhLxv4bs9e0fTtZm8DyahanQ9Ve1kktntjfxMblH0/T5FuRKEMluSYNkhjHARf8ExLHwwuj/Dv4X/ABgGj/DRNK8GWXinwle%2BHTd3upr4ZeL7CYL4XMa2omitrWC5DQT%2BZHAPLMDszn0z9p74x/E3wfqPw4%2BGfwMudAtfEnxL8Wy6VZa34o0me/sdLtoNKvtSmuHtYLi2kuGKWQhWMTxYa4DliIyrfLXxd/4KuftCeEvh94c8XaD4M8MWF4ngfUtS8QW0/hXVNXs9Q1jTtYk0q6sjeWtxGnhyxMsDuuq6iHtlSUFv9RIGAPcPCP7CPj3wT8QV8Q6J8fdPOheGdU8V638L9DuPBbPLoes69LcSzXF5OL0DUIIHvLxYYEjtSIrgo8khVXEnwJ/Y3/aA%2BEX7MPjv4Hat%2B0z4dvvFXi/T714fibpHw7ubLUf7au4JI5tYvlm1a4F7PuMLIkbW0cSQJCirEsaR5Xhf9uvUPHP7a2u/Ay3%2BIHhvw94b8M%2BNB4T/ALP1TwFq11c6/qX9kxX7JHrSTx6dp82Z9sdnKk08yWzyLtEqbeZ8cftcftofBzWvjnbeINe%2BGfjaw%2BEvw503UlvNF8C3%2BilNcvpZ3FpIJtYu/tIgsoorl4U8qSX7ZbxxsGegD0z9oX9jbxj40/Zo8Ffswfs1fE3w14B0TwXqfhmezOv%2BCJ9cU2%2BhX1je2NtGkOo2PljzLCFJGJfdGWChGIcYvxU/4J9678UPidf%2BPJPi1oWnW3jKTwjdfE62tvAzNd6pe%2BH7wXdrNp9017nTVdlVGSRLsoiAxvHIWlbF%2BDH7VH7SXxs%2BBvjvxvF8WPht4Rf4eeN7qx1jxl41%2BFus6bbvpEGk2l69xc6Fe6pb3ukSrJcuhF1cfNBAtyqGO5iwnjf9rX9rHR/2WPhz%2B1nb6T4K0M%2BI9D8OtqHws1vw3fzaxresajPEh06xuRdw/ZHZJR5ay2s7qQxlWNUcgAi1f/glbZ6//bXgi7%2BNKab4GuG8dXHhzTfDfhf7FrWm3nitbv8AtCWXU/tLrcJG19ctBGtvCVK25keUwKTcvv8AgnD4v8ZQa74y%2BKPxq8Mah46u7zwbc%2BHNU0X4amw0bS5PDN5cXenvJpjahK1w7vd3EczC4iLQmJIvIMKOPRNI%2BLnxxtP27tS%2BAXii%2B8KT%2BDL74dP4i8NLYaLcxapaSxXdtayJc3D3TRTqzSuyqkERUKoLPya8e8R/te/tifCjxd8W/DXizxD8NPGcHgez8I6JouoaJ4F1DRY18W%2BINRS1gtLkS6te%2BZBbw3WnXMoTy3KXyBWGCaANK5/4JrfEuwsU1zwh%2B0hoFv4o1S18Y23i%2B41f4am90a8j8SXltdXhs9OGoRmyeNrSNUZ57hXV5fOWZn3C3qH/AATC0%2By8R2lp4F%2BLNvp/hW8fwRN4vs9T8L/bda1S48LSwSadLBqf2mMWpdbW3SbdbzEhXaIwvIXrQ0v4%2BftP6l4E%2BJmleIfi98JvCeufBjxlNp/jfxzrfgm/l0S807%2BxLDWIrqKy/taOSzxDqMaSGS7mCtbSMAwddvIf8N3/ALRjeJ/hRq/xJ0zSfhR4U8XfDDw94g8VXniX4Ta7rMFnrF/cmObSZNTt7q2tdIKr5arJepkPKu5cgpQB7Hr37F/hT4gXfx1f4qeJ5tYt/jhoMXhu%2Bit7QW76V4ej0x7NdPjcu/mET3ep3XmYUbr8rs%2BTc3D%2BE/8Agmf4b8Q6ve%2BLP2nPiI/iXWmg8PW%2Bi3Xw4XU/A8emR6Nb6nBZyodO1JpzcGPV71JH89Y2TyUWFBCtb3ij4rftTeGv26/A3wJsfHPw/wBX8JeJ9O1zXta0mLwHfW%2Bq6Po1lFDDE5vzq0kMkz317ZoM2iB41uCoBjJHjXwx/wCCmfxW8PfsYeJPj3%2B0drHhuP4g6X4a8N3Vz8N5vhVr3hKbw5fatcrZR/a/7Turia/sheTLH9qto1TFrPt8xiFQA9A8Pf8ABPn4qfDb9jPSv2IvhP8AtIaXD4ZbwvqGieLNR8Z%2BD7/xBe38V3uV5LR7nVwtmVSSQLHKLmIHaRGFUo3XeJf2V/jdP%2B0z8MvjH4J%2BPPhqz8L/AA58L3egjw3rngO71DU9StrtrH7U7akuqwokxXT4RG5tXCM8jOsuQF8l8f8A7fnxh8KfCfwtf%2BHPiV4a1/WNV8f3%2BgeJdc0z9n/xPJc6C1vpT362knhJL9tXe4YCJi/mBY4Jo52j8tgxta//AMFHPi3ffDT4E654A8EeFJtc8ayeA7/4rD7a9/YaDp3iDU7PTkgtJreVRJdSy3Nw8DlpI1jsJmcNui3gHoHwL/4JsfBf9m/9pCD48/CXxR4vtLC08Dv4ds/CeqePdd1S0g33ZuGlQX2oTRqnOBAItqtmRSGJrS0v9jHW9F/Yc8Q/skaT8Z5rbXvF2nayviT4hW%2Bi7Z59Q1e5nuNSv4rfz/3TvJdXBiUyv5OYxlxHg%2B70UAc9qvh3Q/CHwoufCXhjTIbHTdL8PPaafZW67Y7eCOApHGo7KqqAB6CvOvHH/KQv4X/9kZ8ef%2BnbwhXqXjn/AJEnWP8AsFXH/otq8t8cf8pC/hf/ANkZ8ef%2BnbwhQB7NRRRQAUUUUAFFFFABXjP7B/8AyRDXP%2ByzfEf/ANTXW69mrxn9g/8A5Ihrn/ZZviP/AOprrdAHs1FFFABRRRQAUUUUAFFFI7pGhkkcKqjLMxwAPWgBaKov4m8Nx/6zxBYr9btB/WpbrWNIsdLm1u91W2hsraFpri8lnVYoo1BLOzk4VQASSTgAUuaPc09jWTS5Xrto9fTTUs18sfGf/goJ4w8V/Fmf9mH/AIJ%2B/DvT/iT470%2BUDxRruoXLx%2BG/C65IIu7mLmSbII8mI7shhkshSuK8V/GD4zf8FS/F198Hv2VPE%2BpeDvgbpl21p42%2BLdmDFeeJWU4k0/SCRxEeVe4xgjP8PyTfVPwE/Z8%2BD37Mfw2svhN8EPA9noOiWQysFsuXnkIAaaaQ5aWVsDLuSTgDOAAPG%2BsYnNJcuFlyUlvU6y8qd1a3Rzaa/kT%2BI/Sv7GyXgOiqufUliMwkrxwjbVOimrqWLcWpOdmpRwsJRklZ4idNNUn8%2BH4M/wDBY74iDHjL9sr4V/D5ZP8AWL4B%2BH8mqFB3CnUmB/Gmv/wS48f%2BL0OofGH/AIKVfH7V9TUbreXw/wCKYtGtYJeqyrbQxsu4Hkc8V9cUVp/YuCn/ABXOf%2BKpN/gpRX4HF/xE3iah/uEMPhV/04wmGg/TmlSrza9Z/m7/ACHH8Fv%2BCu/wLcaP8HP2o/h38VdHf93bj4uaDcWV9YKfukz6ec3WDyWf5iOgovf2eP8AgsB4ntm8T6p/wUC8DeHtUtv31l4Z8PfDSOfTLiUHPlTXNwftAjIypKqSM5AyBX15RS/saht7Wry9F7Sdl6dfvkyv%2BIk5rze0%2Bo4L2r%2BKbwVByn/iT/d67Nwo027t3T1Xx3p3/BTnxz%2BzjdDwP/wUo/Z61fwJqKArZ%2BOPCFhPq/hzWSO8Twq81u56iFwzADLFeBV%2BT/gtp%2BwNcr9n8M%2BLvFut378W2laV8P8AVGuLlv7qB4FUn6sK%2BtaKFhM2prlhiU49HKmnL5tSin68q8wnxB4e4yXt8Vks4VH8UaGLlTot94050K04J9YqrJL7DSsl8kR/8FA/2xviO32v9nf/AIJU/EHUtPIyLz4h%2BJbHwtIV7MsNx5jMD7HpzTb340f8FifiDCPDnhT9iz4efDye7bZ/wkfin4jR6tDYr3cwWaB5Gx93qM4yCM19c0U/7Oxc1%2B8xdR%2BihFfK0G199yVxnw/hn/sfD%2BFVtnUliq8vJy569OE/R01F7NWPkjQP%2BCU2ifFDWIPHf7f3x68UfGvWopBLDo%2BoXDab4fsZOv7jT7ZlXjoSzEOAMpX074F%2BG/w8%2BF/hmLwX8NvAuj6Bo8C4h0vRtNitrdBjBxHGoXnvxzW1RXThcvwWDbdKCUnvJ6yfrJ3k/vt5Hh57xhxLxJGNPH4mUqUPgpRtTow/wUaahSh6qHN3k3q%2BJh/Zp/ZztvHEPxNtvgH4Lj8R25Jg1%2BPwvaLexk9xMI94Pvmu2oorqhSpU78kUr9kl%2BSR4mJx2Nxri8TVlU5VZc0pSsuy5pSsvJWXkFFFFWcoUUUUAFFFFABRRRQAUUUUAFFFFABXjP7L/wDyW/8AaO/7LNY/%2BoV4Xr2avGf2X/8Akt/7R3/ZZrH/ANQrwvQB7NRRRQAUUUUAFFFFABRRRQAUUUUAFFFFABRRRQAUUUUAFFFFABRRRQB49/wUHPjkfsOfFg/Df%2B0/7Y/4QLU/s/8AYm/7ds%2Bzv5v2by/n8/yvM8vZ8%2B/bt%2BbFeJfsefED4PeB9S%2BOJ/YQ0nwlrvgh/stz8JvB3hDWbKy0vxBr9voiy39ppj7lt1ViLBZpI/3cc7ztIRIJjX2dRQB8Rf8ABJq3%2BIuhfHD9oPQfil8IfGWheIrzxHoWreK9Y8WXejyNf6tcaNbNcFV07UbwRpnmGIMUit/IiD5jKL5z/wAFLvFXxW0r/grH%2Bx1eeNvB3h7TdDh8Ya7ZeGdS0rxPPeXd/Hc3GhQyG6t5LKFLRhuQKqTXAbc2Su0bv0jr85f%2BC2n/ABLv2uP2U/G3T/hGvEGoanv/ALm3XfCsef8AyJXl51JxyupJdOV/dOD/AEZ954Y0o1%2BO8FRl9t1YfOeHxUV%2BLifo1RRRXqHwYUUUUAFFFFABRRRQAUUUUAFZV3/yO2n/APYLvP8A0ZbVq1U1TRNO1jy2vY5N8JJilguHidM9QGQhgDxkZwcCgC3RWX/wh%2Bk/8/eq/wDg8u//AI7R/wAIfpP/AD96r/4PLv8A%2BO0AaleZftd/sp/D79s74H6h8CfiRr%2BvaPY31zb3EWteFb9LXUrGSKQNut5njkEZdPMhc7STHNIowWyO5/4Q/Sf%2BfvVf/B5d/wDx2j/hD9J/5%2B9V/wDB5d//AB2gDw/4q/8ABOH4S/FH4g/8JrD8SfGnhrT57vwrdap4T8M3NhDpuoy%2BHb9L3S/M82zkuERHjRGiimjjdBym756Zq/8AwTQ%2BAOuWN1Y6j4i8VsLiHxgIpY9SgSS1m8ReJofEtxcxMsAKzW2oW8LWzchEQCQTN89e5/8ACH6T/wA/eq/%2BDy7/APjtH/CH6T/z96r/AODy7/8AjtAHnHwK/ZMt/gTrfibxZZfHnx34i1rxp4tt9f8AFmreJH0t5NSlh0yHTktylvYwxQQeVbQNtgSJt8QIcKzq1T9pD9iH4cftM%2BIpNf8AE3jnxVoceq%2BGX8NeM9N8OXVrHb%2BK9CaYytpl8J7eZ/Jy867rdoJgl1OokAkIr1L/AIQ/Sf8An71X/wAHl3/8do/4Q/Sf%2BfvVf/B5d/8Ax2gDiPjR%2BzXa/GqKzu7/AOL3izQtY0LxYniDwb4g0Eact14buBp72EkVsLizlhmhlhmu963cdwSb2XDKFhWLzXxL/wAEuPghrXg%2BLwDoHxM8e%2BHtIvPh%2BPBXjS00fVLNj4w0YzXM8kOoSXNpLIJJJL2/Z57VreYm%2Bmw4yu36B/4Q/Sf%2BfvVf/B5d/wDx2j/hD9J/5%2B9V/wDB5d//AB2gDyvU/wBhz4ban8az8Xf%2BE48UW%2Bny%2BLrTxXe%2BA7WezTRbvXrayjs4NRcfZvtQkWKC3PlJcLAzwJI0RfczWdZ/Yo%2BFGv8Aw1%2BInw31XW/EEg%2BJnjB/E%2Bu64t9Et/BqStam0lt5FiCL9kWxsY4A6OAlpGJPM%2BYt6X/wh%2Bk/8/eq/wDg8u//AI7R/wAIfpP/AD96r/4PLv8A%2BO0AfP8A43/4JoeE/H/gm78LeIP2nPig2oaz8QbPxh4r8SbtCe58RXtpaQ2tpb3lvJpTWL2kKW1qy28dsiGS2SR97bi274%2B/Ye1H4hfFbwP8Z9T/AGv/AIo2%2Bu%2BAtCl07S5ILTw3JBPNMx%2B0ahJBPo8kcd5LFiBpoFh2w7kjWMSy%2BZ7H/wAIfpP/AD96r/4PLv8A%2BO0f8IfpP/P3qv8A4PLv/wCO0AecXX7KN1dftdQ/tdf8NHePY7i30FtFj8Dpb6J/Yn2FvLd4cnTTffNPGtwW%2B1bw%2BVDCL91SXn7F/wAJ9T%2BFfj/4Vapqmu3EfxH8W3fiXXdbe9jXUIdSklhktp4JEjCobMW1nHbbkYollAHMhDM3pH/CH6T/AM/eq/8Ag8u//jtH/CH6T/z96r/4PLv/AOO0AeBeM/8Agmt4S8ceAYvBmqftLfE2O9ufiLF438U%2BJEOhSXXijVobeG3tjqEE2lvZSwwR2tmIoI7aONWsrdiC0YNdb8Wf2Qbr44eH7DwP8Sv2nPiLf%2BGRpVtY%2BKPDUceiQW3ilYpTI8l68WmLPG03CSraS20bIoUIuWz6h/wh%2Bk/8/eq/%2BDy7/wDjtH/CH6T/AM/eq/8Ag8u//jtAHP6X8C/Cul/HDxL%2B0CmranNr/iTwxpugN580Zh06yspbuZFtlEYKM8t7K8jMX3lIhwI1A85l/YB8E%2BJ7XxTcfGT41ePPH2teJ9As9HTxJ4jm0uC70e2tLo3lsbNNOsbW3jkjuytwJXikdpIotxZECD2b/hD9J/5%2B9V/8Hl3/APHaP%2BEP0n/n71X/AMHl3/8AHaAPDl/4J3eFLa6TxtpX7RXxJs/iCfFN1r158T4JtHOrXk9xpttpksUkD6a2neQbSys4xGlou02qOCJC7tS8Xf8ABJL9gXx18PvCHgPxV%2Bzt4Z1CbwXJoX9neJ9T8OWF7rNzDpV1DcxW1zeXNvJJNDMYik6EjzI5pVBXfke/f8IfpP8Az96r/wCDy7/%2BO0f8IfpP/P3qv/g8u/8A47QBqUVl/wDCH6T/AM/eq/8Ag8u//jtH/CH6T/z96r/4PLv/AOO0AJ45/wCRJ1j/ALBdx/6LavLvHH/KQv4X/wDZGfHn/p28IV6ifBmhvhZ2vpkyCYrjVrmRG9mVpCrD2IIry7xx/wApC/hf/wBkZ8ef%2BnbwhQB7NRRRQAVx/wAafjz8Mf2fvDtl4l%2BJ2q38Meqaomm6TZaNoF7qt9qF20ckogtrOxhmuLhxFDNKVjjYrHDI7YVGYdhXiX7W3g34nHx38Kfjr8Mfhlf%2BNpPh94tvrrVvCmkX9lbXt1aXmkXtkZrZr6e3tzLHLPCSsk0YMTTbWLBUcA6zxD%2B1N8B/DXwa0T4/XXjr7Z4W8TLZHw1eaJpd1qM%2BrtdgG2jtbW1ikuLmRwciOONnADEqArEc74n/AG%2B/2UvCHhPQ/Gus/Ea9aw8QWF9fWf2Hwnql3Pa2ljKsN9c3sEFs8unQ2srrFcSXSQpbyHZKUYEV5T4f/Z0%2BInh39iLwl8M/Gfwk8eS%2BNPA%2BsWviPSp/hpregre2GrXM9xPKNPk1W4S0lS1W8mtZBdoscsRfYkmQK8r1n9gz49eE/wBmKx0Pw74T%2BJ9/8T/FkHj2LU9V8PeNPD8UFja%2BItXk1H7Brs96Rvj3zRNLcaVA80ckNybbYsiK4B%2BhcM0NzClxbyrJHIoZHRshgeQQR1FeN/sH/wDJENc/7LN8R/8A1NdbrsvCvwm1Xwp8ANF%2BCWifEvVtLu9H8L2ekQeKtKgtWvI2ggji%2B0Il3DPDvbZnEkci/MeD1rz/AP4J06Tf6D%2BzdfaJqvie%2B1u5s/i38Q4bjWNTjgS5vnXxnrQM0q28UUIdyNxEcaJknaqjAAB7pRRRQAUUUUAFFFfJ/wC2z%2B0R8U/ib8UrP/gnp%2Bxv4gez8d67arc%2BPPGdqSV8D6I2N8xZSNt3KrARICGG9WypZHHJjMZTwVD2kk23okt5Se0V5v7krt2SZ7/DXDuM4nzNYShJQjFOdSpO6p0qUNZ1ajW0YrorylJwhBSnOKOs/ah/4KI/DH4D%2BLYvgh8NfDOo/Ez4r6gMaZ8OvCJElxGcA%2BZeTAFLKIAgsz/MFIbaVyw86t/2HP2pv2zp08R/8FH/AIyf2f4ZkcSQfBP4b3slrpoXOQmoXinzbxum5VbaGGUcA4r3f9lr9jf4B/sfeEZPDPwa8HrBdXpEmueIr9/P1LV5s5aW5uG%2BaQlizbeEUsdqrmvUq4Vl9fHe9j5XX/PuLfIv8T0dR972h2iz6ufF%2BU8LfuOEqTjUW%2BMqxi8RJ96Mffp4WP8ALyKde2sq0Hovllf%2BCKn/AATDTp%2BytZfj4j1Q/wA7qqk//BD3/gmLJIZLb9nCW23H94tt4z1hVcd1I%2B1kYPpX1jRWjyLJX/zDU/8AwCP%2BRxR8VPE6Dus7xf8A4UVv1mzN8HeDvCnw98LWHgfwN4ds9J0fSrVLbTtN0%2B3WKG2iUYVEVeABWlRRXqRjGKSSskfC1atStUlUqScpSbbbbbbbu22222222222222FFFFMgKKKKACiiigAooooAKKKKACiiigAooooAKKKKACiiigAooooAKKKKACiiigArxn9l/8A5Lf%2B0d/2Wax/9QrwvXs1eM/sv/8AJb/2jv8Ass1j/wCoV4XoA9mooooAKKKKACiiigAooooAKKKKACiiigAooooAKKKKACiiigAooooAKKKKACvzm/4L3K1iPCnjGNSX8OfDrXdTQjqCnizwMmR%2BEhr9Ga%2BCf%2BC2Whf8JFol1p%2Bzd5f7O3jm6x/1w1/wVNn/AMh5rzM7i55NiEv5JfhFv9D7nwwrxw3iRk1SW31qgn6Sqxi/wm18z71R1kUOjAqwyCO4pa5z4O67/wAJR8I/C3ibfu/tHw5Y3W7PXzLdHz%2BtdHXowkpwUl1Sf3q/6nxmJoSw2JnRlvCUov1jJxf4phRRRVGIUUUUAFFFFABRRRQAUUUUAFFFFABRRRQAUUUUAFFFFABRRRQAUUUUAFFFFABRRRQAUUUUAFFFFABRRRQAUUUUAFeM%2BOP%2BUhfwv/7Iz48/9O3hCvZq8Z8cf8pC/hf/ANkZ8ef%2BnbwhQB7NRRRQAUUUUAFFFFABXjP7B/8AyRDXP%2ByzfEf/ANTXW69mrxn9g/8A5Ihrn/ZZviP/AOprrdAHs1FFFABRRWd4v8W%2BGvAPhXUvHHjPWrfTdI0ixlvNT1C6fbHbQRoXeRj2AUE/hSbUU23ZIunTqVqkadNNyk0kkrtttJJJXbbbSSWrbSW543%2B35%2B1jqf7L3wktbL4baOutfEnxvqK6F8NfDgAZrzUpcKJWXP8AqYQwkcnC/dUld4It/sO/sf6V%2ByT8MLi01nXH8Q%2BO/FN2dV%2BInjK7O6fWNTfLOdx5EKFmWNOAAS2NzsT5F%2Bwx4S8Sfth/HPU/%2BCnHxh0We1064t5dH%2BBvh6%2BTDaXogZlk1JkP3Z7o7jnqIywBZGTH2PXj4GLx%2BI%2Bv1F7u1NPpHrO3efTqoWX2mfpHFVaHCWUrhPCSXtbqeNmmverLWOHUlvTwt7SSfLPEupJ39lBoooor2T80CiiigAooooAKKKKACiiigAooooAKKKKACiiigAooooAKKKKACiiigAooooAKKKKACiiigAooooAK8Z/Zf/5Lf%2B0d/wBlmsf/AFCvC9ezV4z%2By/8A8lv/AGjv%2ByzWP/qFeF6APZqKKKACiiigAooooAKKKKACiiigAooooAKKKKACiiigAooooAKKKKACiuO/aD%2BM2hfs7/A7xZ8c/EmmXV9Z%2BFNAudSk0%2Bx2%2BfeNFGWS3i3EL5kjBY13EDc4yQMmuX%2BAX7QPxF%2BJ2oeN/hz8TPhPpXhjx54HntVvtE0vxW%2Bp6fdQ3dotxaTxXr2du%2B1j5sLhrdSklvJgSLsdwD1mvjz/AIKcaF/wkniPUtHVNzyfsmfFdol9XS48Kuv/AI8or1L9kb9sC%2B/aU8ZePPh7q/hzwil/4CuLGDUdY%2BHfjxvEuiyT3AuN9j9saztCl9bm3zPbGLMSXNsxY%2BbtXA/au0L/AISj9pzQfDOzd/aP7N/xNtduOvmXvhRMfrXPi6ftcJUh3jJffGS/U9jh3FfUOIcFif8An3Woy/8AAatKX/trO6/YR13/AISb9iX4Qa6z7nufhloTSnP8f2CEN/48DXq1fO3/AASW13/hIv8AgnD8I9Q37vL8Kra5/wCuE0kOP/IdfRNZZZU9rltCfeEP/SYnocb4X6jxrmmH/kxOIX3V6v8AmgooortPlwooooAKKKKACiiigAooooAKKKKACiiigAooooAKKKKACiiigAooooAKKKKACiiigAooooAKKKKACiiigAooooAK8Z8cf8pC/hf/ANkZ8ef%2BnbwhXs1eM%2BOP%2BUhfwv8A%2ByM%2BPP8A07eEKAPZqKKKACvMf2j/AI8%2BLfhHe%2BDfA/wu%2BHVh4q8YePPEEumaBpWseIX0qxjWCxub24ubm6jtrl4o0itio2QSM0ssS4VSzp6dXmH7SHwG8XfFy98G%2BOfhb8RbDwr4w8B%2BIJtT0DVdY8PPqtjKs9jc2VxbXNrHc2ryxvFclxsnjZZYomyyhkcA47Uf25nv/wBm34dfGnwD8LVute%2BJfiGy8PaP4Z1/XxYW2n6tKZlngvL2OGfy0he1uI98cMpkkVERSZFryn4t/wDBYnQvhp8LvD3jxPh34Tju9QPi%2B21ePxL8SxpmnDVfDuoDT7vR9NvRYzf2lqFzP5rWdv5UDXEULufLIKD1vT/2OPEfh39k%2BP8AZW0nxb4F1%2Bwt7O1jWX4j/DRtbs7%2BbzTPfT31kt/Alw09wzzIqNCsLMOJAorz6b/glvq/hX4faP4P%2BC/xu0LQ7hfCHirw/wCKTrXw5TUNOvofEF9Hf381lYxXlumnusyFIU3TQpBsieOURowAPrHQdUfXNDstak0u6sWvLSOdrK%2BjCTW5dQ3lyKCQrrnBGTgg815J%2Bwf/AMkQ1z/ss3xH/wDU11uu9s/gz8PG%2BDll8B/Ffh228S%2BGrXQrfSbjT/E9tHfR39vDGkai4SVSkxIQFty4J5xXmn/BOnwx4a8Ffs3X3g/wb4esdI0jS/i38Q7TTNL0y0S3trSCPxnrSxxRRIAsaKoChVAAAAAoA90ooooAK%2BLf2ptW1T/goZ%2B09H/wT/8AAOoTp8N/BU9tqvx41yylKrduG32ugo6/xOy75cHKheoaNlb2X/goR%2B01f/sq/sv63488KQG68W6rJFofgTTUQPJeazdkxWyqh4cqS0pXusTDvVz9hn9lfSf2RP2e9K%2BG7Tm%2B8R3pOqeONdlkMk2razOA91cO55f5/kUnnYi5yck%2BNjr4/FLAr4ElKp5pv3Yf9vtNy/uJr7R%2BlcLOHCORS4qqK%2BIlKVHBp/ZqRinVxOu/1eM4xpaNfWKkZf8ALlHrOk6Tpeg6VbaFomnQWdlZW6QWdpbRBI4IkUKiIo4VQoAAHAAqxRRXsJJKyPzaUpTk5Sd29W%2B7CiiimIKKKKACiiigAoorn/H3xa%2BFfwpisp/ih8S9A8OJqV0trpz67rEFoLqdiAscfmsu9ySPlGTzUynCEeaTsvPT87EznCnFym0kuraS%2B9tI6CigEMAynIPQiiqKCiiigAooooAKK4X9oL9pf4F/ss%2BBZPiN8e/iTp3hzS1JWBryQma6kAz5cEKgyTvjnaiscc9Oa%2BWtf/4KdftU2dvF%2B0rZ/sJa9Y/ACwnVNb1rWX8vxJLZvn/iaQ2Ab93ax8MwYMXRgwdQGK%2Bfi81wOCnyVJe9u0k5NL%2BaSSfLFd3byueVjs6y7L6ns6s/etdqKcnGP80lFPliuspW02Ts7fb9Fc54R%2BL/AML/AB58L7X41eE/HemXnhO80w6jDr6XarbC2ClmkZ2wECgNu3YKFWDYIIHyloP7Wn7fP7Z3inWPGv8AwT68L/DrSvhfotwbDSvFXxVtNQH/AAldyjETT2iWpDpbIRtDMuWOec7kjrE5jh8OoJXm56xUFzNrdtJNaLTW6WqWrdi8XmuFwqppXnKesYwXNJq13JJNe6k1eTaWqSbbSPtCivko/EH/AILVeFh5mu/s9fAjxUF%2B9H4Y8V6hYs/0N4CB%2BNA/bH/4KbWP%2Bgap/wAEjLme7HSWw%2BNWkG3kHqGaPK/Q81h/bGHXx06kfWlP/wBtUjm/t7Cx/iUq0fWjU/8AbVNfifWtFfJLftp/8FJtFxqXjD/gkTqken/xnRPjFpOoXKf9sUjBbPse1ZHiT9sz9un9peWL4Lfss/sZ%2BNfhfrt0CPEHxB%2BLuiLb6doVuePMtFVnF/Oedq9FIBZCpLLMs6waVlGbl0j7OabfZXil97SW7ZMuIsAlZRqOXSPsqilJ9lzQS%2BblFLdtJH1H46%2BOvwR%2BF139g%2BJnxj8K%2BHZ/LEnk674htrR9hzhsSupwcHn2rzzX/wDgpN%2BwB4a3f2l%2B2P8ADlyvUWPiu2uj%2BULvXIfCD/gkt%2ByF4J0uTVPjJ4Ft/iv4y1K4N14i8b/EOAahd6jcsBubZKWSKMYwsYBwAAWY8n1TQP2OP2RPCm0%2BGP2WPhzpxXobHwRYRH81iFNSzyor8tOF%2Bjc5NevLaN%2B9tOw4z4krLmUKNO/RupNr15eWN%2B9tL7N7nmY/4LA/8E1WumtB%2B1p4f3qcEm2u9v4N5O0/nVqf/grV/wAE4LeETyftc%2BFSpHSOWVj%2BSxk17SfhH8KGtRYt8MfDxhUYWE6LBtH4bMVVg%2BA/wOtZjcWvwZ8KRyE5Mkfh22DH8QlPkzz/AJ%2BUv/AJ/wDyY/Z8Sf8AP2j/AOAVP/kzwjUP%2BC0X/BMbTc/af2rNNbH/AD76FqUv/oFsapW3/BcL/glxdSmGP9qONTnrL4P1lAfxazAr6c0/wV4N0nH9l%2BEtMtsdPs9hGmPyWr1zYWN5F5F3ZRSoOiSRhh%2BRo9lnf/P6n/4Ll/8ALA9jxG/%2BX9L/AMFT/wDlp8taj/wW0/4Ji6cqhf2nIrqSQfu4bHwtqszsfTCWpwfriqg/4LXfsMSDfb6p43lQ/clj%2BHeplWHqP3NfVWnaDoekMz6Totpas/3zb2yoW%2Bu0DNW6PY50968F6U3%2BtQPq/EMt8TTXpSb/ADqnyV/w%2B1/YBt%2BdZ8a%2BK9OX%2B9e/D7VVH/jsBrov%2BCdfxy%2BGH7SWt/Hn40/BrxE%2BreG9a%2BM0H9nX72M1sZfJ8I%2BG4JMxzoki4lidfmUZ25GQQT9J14z%2By/8A8lv/AGjv%2ByzWP/qFeF66MNTzCE269WMo%2BUHF39eaX3W%2BZ1YSjmtOo3ia0Zxtsqbi7%2BvPJW8rfM9mooortPRCiiigAooooAKKKKACiiigAooooAKKKKACiiigAooooAKKKKAOO/aE%2BDOh/tE/A3xZ8DPEmqXVhZ%2BK9AudNk1Cx2%2BfZtLGVS4j3Ar5kbFZF3AjcgyCMiuG%2BDX7Ofxw%2BHOveLfiR4v%2BOvhzXPGXjd4/7b1az8AzWVpDHa2K22nxWts2oytGkcnmzy%2BZLKZmuJFUwrsC%2B1UUAeSfAX9n34k%2BA/i14w%2BPHxn%2BK%2BjeJvE/i7RdH0eZPC3hGXRNNtrPTnvpIWFvNe3kklw76hOHlaYgpHCiomwluQ1f4OfCPwf/AMFL/B/jPwh8LvDuk6z4s%2BDfjlvFGsaXosFvd6uyar4SCNdTRoHuCod8FyxG5sdTX0VXjPjj/lIX8L/%2ByM%2BPP/Tt4QoGm07o80/4Ijzyw/8ABOLwZ4ZuXLTaFquuadMT1ymrXbAH8HFfWNfJf/BHv/iW/BL4leCen/CNfHjxVpmz%2B5tuUkx/5Er60rysi/5E2HXaKX/gN4/%2B2n33iqk/ErNpr7dedT/waoVf/coUUUV6p8AFFFFABRRRQAUUUUAFFFFABRRRQAUUUUAFFFFABRRRQAUUUUAFFFFABRRRQAUUUUAFFFFABRRRQAUUUUAFFFFABXjPjj/lIX8L/wDsjPjz/wBO3hCvZq8Z8cf8pC/hf/2Rnx5/6dvCFAHs1FFFABRRRQAUUUUAFeM/sH/8kQ1z/ss3xH/9TXW69mrxn9g//kiGuf8AZZviP/6mut0AezUUV5z%2B138eLD9mL9mXxv8AHm/aPd4a8PT3NlHN92a7I2W0R/353iT/AIFWdarToUZVZu0Ypt%2BiTb/I7Muy/F5tmNHA4WPNVqzjCC7ynKMYr5uS/F9D5%2Bk/4zZ/4KhCL/j5%2BH/7NVtubvDf%2BL7tePZ/ssS/WOVfR6%2Bx68E/4Jo/s/3v7PX7IPhnSfFIlk8V%2BJ428TeN726/19zq1/ieYynu6Bkiz/0yFe91wZTRqRwzrVVapVfPLyvblj/27Hlj683c%2Bt8QMxwlfO45ZgJc2FwMVh6TW0%2BRv2tX1r13Vq/4XTV/dQUVzfxa%2BMHww%2BBHgK%2B%2BJ/xh8caf4e0HTY913qWpT7EX0VR1d2PCooLMeACeK%2BbD/wAFlP2b/E3HwL%2BDvxi%2BJu7/AFL%2BB/hndzJJ6HNx5OB74rbE5jgMHNQrVFGT1t1%2B5Jv8D82xmbZZgJqGIrRjJ6pXvJruopSl%2BB9b0V8kN/wWH%2BDGgqf%2BFqfsx/HnwQyj5/8AhJ/hbcRqD7GJ5Mj3rIi8cf8ABQ7/AIKBTK3wu0y%2B/Z3%2BFUzBh4l1y0WXxbrcPUG3tidlgjD%2BNjv%2B6ys4JWuV51gp%2B7h71J/yxTv8%2BZRUV5ya8k9jilxFl1T3MLetUe0YJ39Zc0YKC85NLsm9D7Oor5J/4Yc/4KBeFePhl/wVp8TpGvSDxb8ONM1YsPQyOysPqBUV5/wTz/bE8fWcum/Gn/gq78RNQtrqNo7yHwf4X0/QN6MMMqtDvK5BIyKf1/H7LCTv/ip2%2B/mf5Ff2nmdrLAzv5zpW%2B/nf/pJv/H//AIKInSvim37MP7Gvw0b4s/FCNx/a9jZXoh0nw5HnDSajeYKRMOR5QO7I2kqxVWw18Bf8Fovia3n%2BJPj78GfhhA3McHhLwtda1cKP7shviIyexKnHpXvX7OP7MXwR/ZO%2BHMHwv%2BBfga20bTYyHupV%2Be4vpsYM9xM3zTSH%2B8x4GAAFAA76pjgMXiffxdaSb%2BzTk4xXldLmk%2B7bV%2BiSIhlmOxa9pjq8k39ilJwhFdrpc8n3k3G72ilY%2BR7n9nL/AIK7ywPpa/8ABRrwaIpx5cl%2Bvwlt1uIFPBeNQ%2BwuByA3Gav%2BCP8AgkF%2ByoBf%2BIv2jl1z4y%2BLdYs2t9U8V/ETVZbmYIwOVto1YJaqMnYU%2BeP%2BF%2BK%2BqaKtZNgHK9ROpbbnlKaXopNr52b80aR4fyxy5q0ZVbbKpKVRL0U24387N9mj4w0z4H/t7/8ABPu/TTv2Umf45fCtiVtvhz4u8RRWWt%2BHlx8q2eoTDZNbr0EcgyoCqq5LPWtN/wAFUPFHw9QzftH/APBPb43%2BDbSL/j91qw8Ox6xptmvd5bi3cYUeoU/SvrmipWWV8OrYSvKEekWozivJc3vJeXM0ultiI5PiMKuXBYmVOPSDUakV5LmtJLyU2l9m2y8m%2BCf7dn7H37ROitrnwh/aI8L6mkcXmXFrLqS2t1bp/ekt59ksY92UCrPiT9t39jLwfc/Y/FP7Wfw20%2BfOPIuvHFgj/wDfJlz%2BlZnxl/4J8fsUftA68vin4ufs1eFtV1QSeZJqS2H2a4nb/prJAUaYezlhTfDX/BO39g3wlB9n0b9jr4bYxjfd%2BDrS5fH%2B/NGzfrTTz1e7al6/vNf%2B3Vt/4Exp8Sr3bUX/AHv3qv8A9upO3/gTRe0D9u/9iXxVrEHh/wAN/tdfDW%2Bvrp9ltaW3jexeSVuyqolyx9hzXafFj4s/D/4I/DPWPi/8TfEkGmeH9CsGvNRv5WyqxgcBQOXZiQqqMlmZVAJIFcD4o/4J8fsK%2BMNDn8Pa3%2ByB8N/s1wu2RrLwdZ2sq%2B6SwxpIh91YH3ryCL/gjB%2BztYeJ9FtNM%2BKXxEPw70rWItTm%2BEOp%2BKZb3w/cTw7jD%2B6my6orHLKWYOAAeKmdXPacWlTpyb2alKNn3akndLd8rT0styKlbiWlBpUqU29E4ylFRfeSmm5JbvlaelktblT9jj4I%2BKP2xPio3/BSD9rXwWqG9g8r4LeA9XhWWPw3o%2B4Ol9IjZX7ZcYWTf1VSCDgosf2RPBBdQPbXMKSRyIVkjkUFWUjBBB6gjtTkRI0EcaBVUYVQMAD0pa7MFg4YKjy35pPWUnvKT3b/ACS2SSS0WvoZdl9PL8PyJ80pO85PecnvJ/kltGKUVotfiTxh/wAEe01D4jXngf4f/HnVvDf7P/ifVk1rxr8H9PLJHcX0Zz5NrMObe0mYq0kSkYMahekZi%2BzfDHhjw74K8OWPhDwhodrpmlaZaR22nafYwLFDbQooVI0RQAqgAAAVeoqcJl2DwM5Sows5erst7K%2B0bttRVldt27Tgcpy/LZznh4crlvq3Zavljdvlim21GNoptu2uhRRRXceiFFFFABRRRQAUUUUAFFFFABRRRQAV4z%2By/wD8lv8A2jv%2ByzWP/qFeF69mrxn9l/8A5Lf%2B0d/2Wax/9QrwvQB7NRRRQAUUUUAFFFFABRRRQAUUUUAFFFFABRRRQAUUUUAFFFFABRRRQAUUUUAFeM%2BOP%2BUhfwv/AOyM%2BPP/AE7eEK9mrxnxx/ykL%2BF//ZGfHn/p28IUAeY/8Exh/YnxR/ag8E9Ps/7Q%2Brans9PtkMEmfx2V9aV8l/sRf8ST/goZ%2B1x4L%2B6IvEPhXU0X1%2B16U7kj8Ur60ryck0y9R/llUX3VJ/5n6B4n%2B/xfOt/z9o4Sp/4Hg8K//bQooor1j8/CiiigAooooAKKKKACiiigAooooAKKKKACiiigAooooAKKKKACiiigAooooAKKKKACiiigAooooAKKKKACiiigArxnxx/ykL%2BF/wD2Rnx5/wCnbwhXs1eM%2BOP%2BUhfwv/7Iz48/9O3hCgD2aiiigArxL9rbxl8Th47%2BFPwK%2BGPxMv8AwVJ8QfFt9a6t4r0iwsrm9tbSz0i9vjFbLfQT24lklghBaSGQCJZtqhirp7bXHfGr4DfDH9oLw9Y%2BGvidpWoTR6XqialpN9o2v3ulX%2Bn3axyRCe2vLGaG4t3MU00TGORS0c0iNlXZSAfPR/aE/aY%2BIH7Bnw7%2BKugalrUGsah4jt9N%2BJHijwD4STU9TtdOt7m5tbvU9O05oLlZWlmt4W8sQXBjhuJGWNzGK8/8U/tE/tL/ABO/4J33Hxr8C/tFePfB/wAQLHxzrnw/8HJH4X0KJ/EurnxLLoOkXWpWl9pk5hfcsEtzFbi2Cf6UCkYQCP6x/wCGVvg3b/DCP4N6BZ%2BItC8OW9lYWdjp/hfx1q%2BktYQWaBII7aWzuopLUbVAfyWTzefM35ObGnfsw/ArSPDngjwjpvgGKLTfh1rX9r%2BEbNb2422t/wCRcwG5kzJm6kK3lw5afzC0snnHMqrIADoda8Q2/wAM/h%2B/iDxbeaxq6aRYIb%2B503QJ7%2B9uyoCtItpYQvJI7H5ikMR6nCgDjyf/AIJ0%2BIbDxb%2BzdfeKdKt76K21H4t/EO5t4tT0ueyuUR/GetMBLb3CJNA4B5jkRXU5DKCCK90rxn9g/wD5Ihrn/ZZviP8A%2BprrdAHs1fIX/BSv/i/Hxk%2BB/wCwfZ/vrbxn4z/4SPxrAvK/2HpK%2Be8Uvos0u1VP96ICvr2vkL9j3/jIv/goT8cv2trj9/pHg5oPhn4KmPKhbUi41JlPQg3LIVYdVYjNeRm/76FPCL/l7JJ/4I%2B/P71FR/7eP0Pw8/4TcTjeIZaLAUJTg/8AqIq3w%2BHt5qpUnVX/AF5v00%2Bva8R/bF/bk%2BHn7Jmnad4ai0W88XfELxM/keCvh1oH7zUNWmOQGIAPkwAg7pmGAFbAYjFc1%2B2L%2B3Frnw58ZWn7Kv7KXhSHxv8AGvxDBusdFD5svDtsQM6jqUg4iiUMGEZIZ8r0DLu1P2OP2EdA/Zy1DUPjJ8UfFs/j74veJ03eLPiDq6ZlOcZtbNDxbWq4ChFAyFXOAqIjr4uvia0sNg91pKe6h5L%2BafltHeXSL/H8Tj8TjK8sJl7V46TqNXjDyS2nU/u/DHRze0Hwfwj/AGB/iV8efHth%2B0z/AMFL/ENl4q8RWcn2jwt8LtPO7w34UzyB5RJF7cgYDSPuXPGZAqMv10qqihEUAAYAA4ApaK68JgqGCg1TV29XJ6yk%2B8nu/wAEtkkjvwOXYbL4NUk3KWspN3lJ95Ser8tklpFJaBRRRXWdwUUUUAFFFFABRRRQAUUUUAFFFFABRRRQAUUUUAFFFFABRRRQAUUUUAFFFFABRRRQAUUUUAFFFFABXjP7L/8AyW/9o7/ss1j/AOoV4Xr2avGf2X/%2BS3/tHf8AZZrH/wBQrwvQB7NRRRQAUUUUAFFFFABRRRQAUUUUAFFFFABRRRQAUUUUAFFFFABRRRQBHe3tnp1nLqGoXcUFvBE0k880gVI0UZZmY8AAAkk9K5v4e/HD4K/FzwNL8T/hT8X/AAt4n8NQNKs3iLw94gtr2xjMQzKGnhdowUHLZb5e%2BK4r9vv4feNPit%2BxR8U/hx8PNGl1PWdZ8Daja2WkQOFfUy0DbrNSxCgzruhG4hf3nJAya88/Zv8AGGmXnxZ%2BM3xsk%2BE3jjSfBvjN9O/sbSdX%2BGmrWl1qcmm6MiX1y1jLarNFvQwWkYmRGuGsdsQkXyywB7t8Jvjp8Evj3odx4m%2BBfxi8K%2BNNNtLo211qHhPxDbajBDMFDeW8lu7qr7WU7Sc4IPevIPjL8StD8Gf8FP8A4C%2BDdYlVJfF3wn%2BItjpZJ5e5ivPCl3s/78wTH/gIrJ/4J7eKb742%2BN/iL%2B1P40%2BHvjDwf4m8ZQaPZHwd4o%2BHmraEdE0Wy%2B2/2fbvJf2sMd9fE3N3LcyW5kjiM0MAZkijlm%2Bbv%2BCwFr8fvhv%2B1x8If2qLnxloeqaV8JtL8QeK9I0XQ/C89nfQ6auseFbO9gubiS9mS73x3gO6OG32qj5DZ%2BXjzDESwmDnXSvy6v0TXN/5Ld/I4M0xcsDgKmJir8iUn/hTjzfdHmfyPfPgV/xIP%2BCwPx40n7v/AAkHw68L6nj%2B95CyW2f1xX1pXx58TdcsPhJ/wVZ%2BE3x306/Sfwz8a/hzd%2BD3vFOYku7dxqFnLn1mVxEo788d6%2Bw65Mpaiq9LrGpP7pWmn81K5%2Bn8f/7S8qzCGsK%2BBw1n3lRjPDzXrGVOK9HF7NBRRRXrn5%2BFFFFABRRRQAUUUUAFFFFABRRRQAUUUUAFFFFABRRRQAUUUUAFFFFABRRRQAUUUUAFFFFABRRRQAUUUUAFFFFABXjPjj/lIX8L/wDsjPjz/wBO3hCvZq8Z8cf8pC/hf/2Rnx5/6dvCFAHs1FFFABRRXP8AxN%2BLHws%2BCnhGb4gfGX4l%2BH/CWg20iR3Gt%2BJ9ZgsLSJ3YKitNO6opZiAATyTgUAdBRXPeK/i38KvAfw%2Bb4teOPib4e0bwqltFcP4m1bWoLfT1hlKiKQ3EjiMK5dArbsNuGM5FZXi39pb9nLwD8ONN%2BMfjv4/%2BCdF8Iaz5X9keKtX8V2dtpt95qF4/JuZJBFLvUFl2sdwBIyBQB21eM/sH/wDJENc/7LN8R/8A1Ndbr2K1ura%2Bto72yuI5oZow8M0ThldSMhgRwQRyCK8d/YP/AOSIa5/2Wb4j/wDqa63QB2P7SXxWg%2BBf7Pnjf4yTuo/4Rjwrf6lEH6PJDA7xp7lnCqB3Jr4S/Z9%2BNnxE%2BBH7IPwt/YX/AGRNLh1348%2BPvDS%2BI/EF/djzLfwnDqTfa5dU1JsECRUnRUiYEsVTKtlEl9O/4L6/Fpvhv/wTy1fwtZyMLvxv4h07Q7dIj%2B8ZfMN1IAPQpash/wCumO4r1H/gm/8Asc6N%2ByV%2Bz9pw13TTN8QPFNnBqXxD127bzLq71B03NAznnyodxjRBhRtLYyzE/LYt4nG8QPD0XyqFNc0usVOV2o/3pKKSf2Vd6ux7ua5jOlwLSyLCT5KuLruvWkt40KEPYUor%2B9UrVK8ot6RjCU0m%2BW3Qfsb/ALF3w6/Y%2B8FXVno9/deIPF3iCb7Z438d6wxk1DXr05LSSOxJWMMW2RgkKCSSzFnb2Oiivo8Ph6OFoqlSjaK2X9derbu29W2z5vC4XD4KhGjQioxjsl/Wre7bu22222wooorY3CiiigAooooAKKKKACiiigAooooAKKKKACiiigAooooAKKKKACiiigAooooAKKKKACiiigAooooAKKKKACvGf2X/APkt/wC0d/2Wax/9QrwvXs1eM/sv/wDJb/2jv%2ByzWP8A6hXhegD2aiiigAooooAKKKKACiiigAooooAKKKKACiiigAooooAKKKKACiiigAooooAK%2Bdv2mvhloHxo/ay8KfCHxSmdO8T/ALPfxH0u8%2BXJWOfUfCUZYe43ZB7ECvomvGfHH/KQv4X/APZGfHn/AKdvCFTOEakHCSumrP0ej/MipThVpuE1dNNNd000/wAGz4rlu/HvxZ/4I0WethP%2BLnfsseMUMqZJa2vfD11tYE/ewNPYMfUr%2BNfo78MPiDoHxZ%2BG3h/4peFJ/M0zxJotrqenvnOYZ4llTPvtYV8keHbbw7%2BzZ/wUt%2BIvwK%2BJNj5PgX9pjRotU8NPcLi0m1uGBrfUbHd2lnjYSkH7xKKDlgD0n/BITxBrHh/4AeI/2VPGF882ufBTx3qfhWZ5j889ksxms58f3Gik2r/sxV8tlFSWHxsaM3q4unL/ABUX7r/7epSi/Ox9Xw5UlnXhFLCVHevlGJ5X39hifcv6e2o0p9v3rfU%2BsKKKK%2BrPlwooooAKKKKACiiigAooooAKKKKACiiigAooooAKKKKACiiigAooooAKKKKACiiigAooooAKKKKACiiigAooooAK8Z8cf8pC/hf/ANkZ8ef%2BnbwhXs1eM%2BOP%2BUhfwv8A%2ByM%2BPP8A07eEKAPZqKKKACvAv20k1Pw18R/gr8ar7wV4g8QeGPBPjy%2Bu/Edp4Y8N3esXdl9o0LUrO3vlsrOKW4nCS3AhPlRuyC73kBFdl99ooA%2BJvCvwy1bQf%2BCfvw10Txdb%2BLfB/ij4X69p3iXRtPi%2BFGreJV0p5JblrLT5tNsEEl9HBaXQt5EtZM2zxK3mRmIGvHtM%2BDv7Xnwk0P4dfGjxF4n%2BIulMmnfFe/sJPBnwlGr6laaprniS21TSLefSzbXn9nw3Fqs/mBlVrYZtmuoTIzv%2BnVFAHG%2BHJPjX4h%2BA2kT339heFviBeeGrOTUI7vTJNR07TNTaFDPH5MVzA08SSF1AWdCQAd3r57/wTpt/Etp%2BzdfWvjLVrG/1eP4t/ENdTvtM057S2uJx4z1rzJIoHmmaFC2SEaWQqCAXbGT7pXiv7Dd5baf8BfEN/ezLHDB8YviRJLIx4VV8aa2ST7ACjYNj5/8A20dP079rL/gqx8C/2T2hN3ovw30678f%2BM445FZNwZFs4pEPpLFCGB6pee9fdVfm9/wAERPEGtftTftLftCft9%2BK7N1l8S61baRoXm8tb2YzL9nz/ALECWC8f3M1%2BkNeBw/OOLoVcdb%2BNNtf4Y%2B5D8It/9vGcMHXw8YV679%2BtCnUt/LTnFzox8v3Uoza/mrO%2BoUUUV75oFFFFABRRRQAUUUUAFFFFABRRRQAUUUUAFFFFABRRRQAUUUUAFFFFABRRRQAUUUUAFFFFABRRRQAUUUUAFFFFABXjP7L/APyW/wDaO/7LNY/%2BoV4Xr2avGf2X/wDkt/7R3/ZZrH/1CvC9AHs1FFFABRRRQAUUUUAFFFFABRRRQAUUUUAFFFFABRRRQAUUUUAFFFFABRRRQAV4z44/5SF/C/8A7Iz48/8ATt4Qr2avGfHH/KQv4X/9kZ8ef%2BnbwhQBY/bd/ZQ0P9sH4E3vw3l1RtJ8QWFxHqvgrxLCSs2i6vBlre5Rl%2BYAN8rY5KM2MHBHw5%2Bxp%2B114g8D/t5p4p%2BNOlJoWr/E77L4C%2BMOlsojXS/G2nIyWF3gfL5F/bhhEVGDJ5uCVj3H9Qa%2BLf8AgqJ/wSk0/wDa/wBPvPjP8Cdebwz8Ure1h3TJcNFa%2BIFtyGgiuCD%2B7mQqvlXA5XAVsrtKfNZ7gMXzxx2CjepBpuO3Mo3t/wBvJOUfOMrdIno8OZpS4cz2pi61OVTC4mlLD4qnCznKlK0oVaabSdbDVY061NNrnjGdLmTnFr7Sor5b/wCCcP8AwUY8C/tZeArb4afEbWYNB%2BMPhpG03xr4P1R1gupby3zHNcQRtgyIzIWZVBMTEqwwFZvqSvbweMw%2BPw8a9GV4v8O6fZrZp6po8uNWhVcvZTUlFtX1WqbTTUkpRfeMoxktmkwooorqLCiiigAooooAKKKKACiiigAooooAKKKKACiiigAooooAKKKKACiiigAooooAKKKKACiiigAooooAKKKKACvGfHH/ACkL%2BF//AGRnx5/6dvCFezV4z44/5SF/C/8A7Iz48/8ATt4QoA9mooooAKKK4D4%2B/tB6R8BrPw/bf8ID4h8Xa94s1w6T4Y8KeFVtPt2o3C2s93Lta9uLe3iSO3tp5GeWZF%2BQKCXdEYA7%2BivINV/bT%2BGEXwG8G/Hnwl4a8R%2BJIviDe2dj4P8ADOk2cEeqX99cJI/2QpdTQwwSxLDcGXzpY1j%2BzyAtkAHnn/4KDeGdXu/Bmg/DT9nn4h%2BMNe8Y2niSZvDuitokF1osmg6ha6dqkF49/qdvAJYby7SHEEsyuUdlZkCuwB9AV8gN8Qv%2BFV/8EvPjj49Sfy5rDxT8W/sb5xi4fxZr0cP/AJEdK%2Bv6/M3/AIKAfEL/AIQf/gjV8RdISby5fE/x/wDGekxMDgn/AIr/AFi5cD6x2zj6E152cYj6rlNet/LCT/Bpfi0cGausstrKirzcXGK7yl7kUvNynFLzaPaf%2BCC3wxtfh3/wTa8KaukGy58WarqWtXo24yxuWtoz75htoj%2BNfZNeO/8ABPbwX/wr79hj4R%2BFXh8uWH4e6VLcpj7s0tsk0g/77dq9ipZNQWGynD0ktoR/9JTf4tn1fE0KdHiHFUKbvClOVOL7xo2ox%2BXLQVvJhRRRXpHhhRRRQAUUUUAFFFFABRRRQAUUUUAFFFFABRRRQAUUUUAFFFFABRRRQAUUUUAFFFFABRRRQAUUUUAFFFFABRRRQAV4z%2By//wAlv/aO/wCyzWP/AKhXhevZq8Z/Zf8A%2BS3/ALR3/ZZrH/1CvC9AHs1FFFABRRRQAUUUUAFFFFABRRRQAUUUUAFFFFABRRRQAUUUUAFFFFAHn/7Vfxquf2c/2b/G3xx0/QU1W88MeHLq%2B0/TJZjFHd3SofIhdwCURpSis4BKqScHGK5n9m/4t/G3xH40%2BInwK%2BON74Vv/FvgabTprfXfCui3On6fqFpf2nmwsbWe6uZIZI5ormJh57h1jjkGwuUT0T4ufCzwb8cPhZ4i%2BDfxDsJLrQvFOi3OlatBDM0UjW88TRvsdcNG4DEq6kFWAIIIFcd8Ev2XIfgpquqeKF%2BOHjXxPrniG/F14n17xP8A2W1zqxjtI7W2ikFtYwxxR28cQMaQJEC7yPJ5rSOSAZ37FXxd%2BM3xa8E%2BLYfjzd%2BGLnxD4T%2BImreHZbzwjo9xYWVzFaugSQQ3FzcurYfBPmEEjIC5wOcv/i58KPHP/BTbwX4C8E/E7w9rGu%2BGPg944i8S6LpWtQXF3pLyat4S8tbmGNy8BbY%2BA4UnacdDXW/ssfsp3H7Lx8V7v2ivHnjweLtfk1q9XxrBoqC1vpSTPLD/AGZptnjzfk3K%2B9V8pdgTL7qfjj/lIX8L/wDsjPjz/wBO3hCgD2aiiigD81f%2BCkf7F/wQ%2BEn7Udv%2B1l8UvB1xJ8MPiFfW1j4917RJ2tdS8Da3kJa67azx8xxu21ZlIKF/mZXcxgeyaL4T/wCCsv7Mdilh8MfGvgn9obwZEofSh4t1B9K8SNAQCkf2wZtp%2BP8AltISzZB4HA%2BrfiJ8PvB3xY8Cav8ADT4haDBqmia7p8tlqlhcLlJoZFKsvqDzkEYIIBBBANfJn7GvxX8T/sV/FhP%2BCbP7TWvXMlmJHb4FeONS4i17SsjbpkkvQXdvkRhDjcu1VAHleZ8pWy7D4DMXNN041XpKL5eWb%2BzLRxcZvWPMnad4ppSSPuMdkWE8RMh%2Bv4ZOnm2CppVHTfLPE4WCtGo42aq1cLFKFXmhKUsOoVLv2NQ0k/4K1aH8MT9k/bK/ZI%2BKvwleP/j51i98Otq2ip67b2zDeZj2j6Yr2/4I/tlfsq/tIIi/A/4/eF/EVw67v7Os9VRbxR1y1s5WZfxQV6UyqylWUEEYII614h8cP%2BCbf7D/AO0M733xJ/Zz8PHUmbeNb0W3Om3wfOQ5uLUxu5B5G4sPavV9lnND4Kkaq7SjyP8A8ChdffA/K/Y8QYb%2BHVhWXacXCX/gULx%2B%2BCPcKK%2BRo/8Agmh8b/h0n2f9m7/gpj8XfDNpH/x5ab4pa28R2tqOyIlyqfIOykn607/hXH/BaH4cDPhf9pH4MfEmOPqPGfhC60eaUe39nkoG%2BvFH9oYun/Fws1/hcJr8JRf4D/tXHUv4%2BCqLzg4VF%2BEoy/8AJT63or5JHxk/4LJEfYj%2Bxp8KBKnyven4hyeTKf7ypt3qPY80p8Vf8FutZ40z4U/s5aKT0Osa5rFyB9fIAp/2vTe1Gq/%2B4cv1aD%2B3aT%2BHD1n/ANwpfq0fWtFfI7fEb/gtL8NGN54t/Zz%2BCnxLt/vfZPAniy80e4A7ru1IFM%2BhxTl/4KR/tDeHxs%2BIv/BK3422sicTjw1bWusKD32tG6bx7jrR/bOEj/FjOH%2BKnP8ANKa/EP7fwUP40KlN/wB6lUX4xjNfifW1FfJX/D2a1Aw//BOH9q4N/Ev/AAp08H0/4%2BaQ/wDBZf8AZn8NnPxr%2BEnxj%2BGqD78njr4Y3kCoPU%2BR53FH9uZSt6yXqpJfe4JfiH%2BsmRr4q6Xm1OK%2B%2BVOK/E%2BtqK%2BTLj/gtV%2Bw5q0xs/hHqXjb4h3Y62fgj4f6jcSZ/u/voolz%2BNR/8PDf2sfHvHwG/wCCVPxSvlk/1U3xB1Sy8MgD%2B8wnMhx3xR/beVv4KnP/AIFKf/pMWvxD/WPJZaU63tH/AHFKp/6RCS/E%2Bt6K%2BQG%2BEn/BWT9pli3xb%2BPfhX4F%2BHJj82g/Dey/tTWpI/7kt/P8kL%2BkkHoOOtWR/wAEevg3qgH/AAsH9qH4%2B%2BLGI/eHxB8VLiTf658tEpfX8dW1oYaVu85Rh/5K%2BaX329BLM8yr64bBy5e9SUad/wDt188vvS9D6a8afE74a/De1%2B3fET4haHoMG3d52tatDapj1zKyivnbx1/wV7/ZM07xDL4D%2BBa%2BJ/jH4mTj%2Bw/hV4el1TBJwGa4G2DZnqyu2ACcVa8F/wDBHP8A4JxeC7r%2B0x%2BzXYazes26a88T6peam8zerLczOh/BQK%2BgvAnw6%2BH/AMLvD8XhP4aeBtH8PaXD/qdN0PTYrSBPpHEqqPyotndfRunSXlzVJfjyR/Bg48RYjRunRXdc1WXy5lCH3p%2Bh4l8Af%2BCnf7K3xz8Sf8K01TxFf%2BAPHUbiO58B/EawOk6kkp6IiynZMTzhY3ZsDJUV9DV5/wDtAfsr/s8/tS%2BGT4T%2BPvwk0bxLahGW3lvrUC4tc9TDOmJYT7oymvm1fhB%2B3z/wT0YS/s2avd/Hf4VwnC/DzxVqaxeItEi7LY3zDbcRKOkTjIUBUXOXqXicxwP%2B8x9pD%2BaCfMv8VPW/rBv/AAkvF5tlv%2B9w9rT/AJ6afMvOVO7uu7pt/wCA%2Bx9c17Q/DGkz6/4l1m006xtU33N7fXKwwxLnGWdyFUc9SasW9xb3lul3aTpLFKgeKWNgyupGQQRwQR3r418N/sQfHv8Abe121%2BLH/BTbW0t9AhlFx4d%2BA/hnUXXS9PP8EmpTxsGvbgZ6A7FOcHaxjF2T/gml8W/2d7ttW/4J1fta654BsWkLSfD3xgra54eIJ5EKTEy2p5yWUuxwBkChY/MJfvY4Zun095Kp68j0t2Tkpd0thRzPNZ/vo4Nul095Krb%2Bb2bskn0i5qfVpbH2BRXyKv8AwTi/aP8Aiuwvf2rv%2BClfxN1ncdx0f4dLB4YslPZGEAdplHYtgkgE1KP%2BCW/jbw8f%2BLcf8FMP2jNOUfdg1fxtHqUSD0VZYRgfjVfXcyeqwjt51Kaf3ar/AMmNP7RzeXvRwL5fOpSUv/AdV/5MfWtFfJf/AA7v/aoT5If%2BCrXxaCHhg%2Bn2LHHsdvB96jn/AOCXnxLv4jean/wVD/aMOox/PazWnjKKC2WQcqXgWHEiZ6oWAI4zT%2Bu5i9sI/nUpr/MP7RzZ7YGXzqUl/mfXFFfIMD/8Fhf2a5RpUWleBf2jNCHyWt297H4W11PQzF91qygY5Xc7HJJqz/w11/wVSj4k/wCCQcUnvH8f9FX%2BcVJZvRjpUpVIvt7OUvxgpRfyYln1COlajVhLqvZTl%2BMFOL9U/uPrWivkv/hsD/gqZ0/4c8H/AMSC0T/41R/w1z/wVSf7v/BISFP9/wCP2in%2BUVP%2B2cJ/LU/8FVf/AJEf9v4H%2BSr/AOCK3/yB9aUV8lf8NV/8FXZf9X/wSh0yL/rr8dNKb%2BUVH/DTP/BWmX/V/wDBMXw3D/11%2BNFi3/oMdH9sYX%2BSp/4Kqf8AyIf2/g%2BlOr/4Jq//ACJ9a0V8lf8ADQv/AAV4m/1X/BO/wRD/ANdvi1A2P%2B%2BY6P8AheH/AAWHm/1X7DXw0h/67fEzdj/vlKP7Xof8%2B6n/AIKmH9vYbpRrf%2BCan%2BR9a14z44/5SF/C/wD7Iz48/wDTt4QrzD/hbX/BZeb/AFf7JHwfh/67ePbhsf8AfK1U%2BCniT9tHxF/wUL8Ft%2B178NfA/h0RfBnxl/wjq%2BDdZnuzPnVvCvn%2Bd5oG3biHbjrufPQVrQzGnXqqCp1Ffq4SS%2BbbN8Nm1LE1lTjSqq/WVOUV823p/mfYFFFFegeoFeQ/tRfCP4seMfEvw7%2BMHwMtvDt94m%2BHniW6votE8V6vPp9jqlpdabdWM0LXUFtcyW7qZ4plcQSA%2BQYyAJN6evUUAfMml/si/EXQP2NdJ/Z2134eeEPGusaDc2mp2d3N8QdU8OLNq0lzJd3l3BeWNlLdaW0VxNL5DQmR2jO1mj3NXnGv/wDBMvxTp/7KWlfAPRPgL8H/ABd4hmk8V6g3jPxl4iv47nwTqmuag969xpEp0%2B5urloZJExM1xaXErWUMjSB5GZPuKigDnJ/h3Frfwui%2BGXjHxRrV6G0mGy1DWdP1m50y%2BuWRFVp1uLOWOaCRiu4tG6kZIBr8ef%2BCoN9H4b/AGHvhn%2BzV4YmvrtdQ/aI%2BJ01ompapcXtzJ9k8WavaxNNcXDyTTPm%2B5kldnc5LMSSa/amvxE%2BPN7c/Fv/AIKD/B74HW8QuLCx%2BNnipdRGc%2BS138TdcllGPXyLNT9DXzHF83/YU6S3qShD/wACml%2BR6/DVCGL4vymhNXi8VQlJd4UZvEz/APJMI/wP2s8K%2BH7Pwl4X03wrpwxb6ZYQ2kAxj5I0CL%2BgFX6KK%2BmSUUkjy6lSdWo5zd22233bbbf3thRRRTICiiigAooooAKKKKACiiigAooooAKKKKACiiigAooooAKKKKACiiigAooooAKKKKACiiigAooooAKKKKACiiigArxn9l//AJLf%2B0d/2Wax/wDUK8L17NXjP7L/APyW/wDaO/7LNY/%2BoV4XoA9mooooAKKKKACiiigAooooAKKKKACiiigAooooAKKKKACiiigAooooAKKKKACvGfHH/KQv4X/9kZ8ef%2BnbwhXs1eM%2BOP8AlIX8L/8AsjPjz/07eEKAPZqKKKACvN/2qf2WPhV%2B198JLv4SfFXTpPKdxcaTq1m2y80i9TPlXdtJ1SRCfowJVgQSK9IorOtRpYilKlUinGSs09mjty7McflGPpY3BVZU61OSlCUXaUZLZp/8Omm0002n8hfs0/th/Eb4A/ESz/Yj/wCChOprZ%2BLBJ9n8AfE2aMx6Z44tRgR5lPyxXwBVXjY/MxHJZl3/AF7XF/H/APZ5%2BD/7T/wzvvhJ8b/BVrrmi3wyYZxiS3lAIWaGQfNFKuTh1IIyR0JB%2BWdP8eftif8ABMKH/hHvi/pGtfGn4HWTY07xxpaed4l8L2vZL%2BDj7ZBGP%2BWycqoJJA2RDx41sRlHuYi86PSerlFdqiV20ulRJ6fGvtP9Fq5bk/iG3iMpUMNmT1nhm4wpV5PeeElJxjCcnrLCylFczf1abTVGP21RXJfBX47/AAf/AGi/Adr8TPgj8QdN8R6Jdj5LzTp93ltgExyIcPFIMjKOFYdwK62vZp1KdWCnBpp6prVP0aPzXF4TF4DEzw2Jpyp1INqUZJxlFrdOMkmmuzSCiiirOcKKKKACjr1oooAZb21vaRCC1t0iQZwkaBQPwFPoooDYKKKKACiiigAooooAKKKKACiiigAooooAKKKKACiiigAooooAKKKKACvGfHH/ACkL%2BF//AGRnx5/6dvCFezV4z44/5SF/C/8A7Iz48/8ATt4QoA9mooooAKKK8i/ai%2BLnxX8HeJfh58IPgbc%2BHrHxP8Q/Et1Yxa34q0ifULHS7S1026vppmtYLm2kuHYwRQqgnjA88yFiI9jgHrtFfLPij9uf4hJ%2BxR4B/aGtrXwt4U1PxP4jtdD8X%2BIvEkM93oHhCRZ57a9v51Sa3eS0W4tmhjZ5oRm5haR1AavO/Hf/AAVa%2BIEn7Ecvxc%2BCei%2BFfEXxBs7vxN9tmks7oaH/AGXoGqTWV3rIiEwmFvd%2BVAttF5zMH1CM75Y4JnoA%2B6q/EP8AY3sb3xj/AMFvtZvdcuFbRtI%2BPXxCkBKkmD7Be6tKoAHXNxfLgDnJ7mv2p8ZeNfBvw58L3vjj4heLdM0HRdNhM2o6xrN/Ha2trGCAXkllZURckcsQOa/I/wD4JT%2BH9D8bf8FOPih8UPDGt2er6BdeLPHXiPSNW0%2B6We3uTe/EGWzilikQlXje3tN6upIYNkZBzXznENF15YOHT20G/kpP9D6zgnCuee1Mc9sLhcbV/wC3nhZUIfPnxV15o/W7/hMNJ/59NU/8Ed3/APGqX/hMNJ/59NV/8Ed3/wDGq%2BdvH3/BZH/gm98L/HetfDTxz%2B0b9h1vw7q1zpmsWX/CIaxL9nureVopY98doyPtdGG5SVOMgkc1k/8AD8v/AIJaf9HQ/wDlk63/APIVd8s8yWEnGWJppr%2B/H/M9Cj4W%2BJmIoxq0skxcoySaaw9VpppNNNQs0000%2BqafU%2Bn/APhMNJ/59NV/8Ed3/wDGqP8AhMNJ/wCfTVf/AAR3f/xqvnbwD/wWR/4JvfFDx3ovw08DftG/btb8RatbaZo9l/wiGsRfaLq4lWKKPfJaKibndRuYhRnJIHNd9%2B398YPiZ%2Bz7%2BxN8U/jj8G7TTZvE/hLwPqGq6OurzMlussELSb32xybtqhmCbcOyhCyBi69eFxuDxsXLD1IzS35Wnb1sfP55wzxJwxWhSzjBVcNKabiqtOdNySdm0ppNpPRtddD0v/hMNJ/59NV/8Ed3/wDGqP8AhMNJ/wCfTVf/AAR3f/xqvnvU/wBtz42%2BFfiH458F/EL4FeBNC0/4ZfDy08TeOfE938VLo2Nu93FqjW9tbY0cSzqH0%2BMSyukRRLgtHHM6CKTmfht/wUq1f4q6p4Z0PVvhPq/hfW4vjRL4O8Q6Qst5bQyIfB%2Boa/DPt1jR7S9eF0hiTb9ntJBKgZZZIVK3HSeGfVX/AAmGk/8APpqv/gju/wD41R/wmGk/8%2Bmq/wDgju//AI1Xzz%2ByV%2B3z8Sf2h9P0S48c/swf8I/d%2BLPhNovxB8J6X4e8aw6rPdadfMEeCc3EFlFb3EJeJioeRHR8hwymOuj/AOCj/ij4vfDv9lLXfir8FfjDqPg7V/C0kGotcadpVhd/2hEJFja0lW9t5lWJ94LNGqyfIArrkmgD2P8A4TDSf%2BfTVf8AwR3f/wAao/4TDSf%2BfTVf/BHd/wDxqvOv22/ih44%2BEn7Plxr3w21ePTdc1jxb4Z8M6frElqk40ttZ16w0g3wjkBR2gW%2BacK4KExAMCuQaP7Hnjv4j63efFP4S/E3x5deLLz4Y/Es%2BHbPxXqNla293qtrNouk6vG86WcMNuJY/7UNsTFFGrfZg20MWoA9T/wCEw0n/AJ9NV/8ABHd//GqP%2BEw0n/n01X/wR3f/AMarUooApab4h0vVbhrO2adJlTeYrm0lhYrnG4CRVJGeMj1q7WVd/wDI7af/ANgq8/8ARltWrQAUUUUAFFFFABRRRQAUUUUAFFFFABRRRQAUUUUAFFFFABRRRQAUUUUAFFFFABXjP7L/APyW/wDaO/7LNY/%2BoV4Xr2avGf2X/wDkt/7R3/ZZrH/1CvC9AHs1FFFABRRRQAUUUUAFFFFABRRRQAUUUUAFFFFABRRRQAUUUUAFFFFABRWb4z8Y%2BFfh34P1b4geOdftdK0TQtNn1DWNUvZQkNnawxtJLNIx4VERWYnsAa5f4O/tI/B747eGNW8XfD7xFeLa6DeG11238Q6De6Nd6ZKII7gC4tdQhgngBgmimVnRVaORXUlSDQB3VeM%2BOP8AlIX8L/8AsjPjz/07eEK6P4B/tU/A39py1v7r4NeK7y//ALNhtZ7mHUvD19pkzW10jPa3ccV7BC81rOschiuYw0MvlvsdtjY5zxx/ykL%2BF/8A2Rnx5/6dvCFAHs1FFFABRRRQAUEAjBFFFAHzD8Yf%2BCXnwv1rxxdfG/8AZZ8fa38E/iHcMXn17wQwWx1B85xe6exEFwpJLEAIWJyxaubh/ap/4KI/srp/Zv7Wv7JjfEvQLXhviH8GHE9w0Y/5aT6VJtkDY5dkKxrg4BFfYVFeVPKaUJuphZulJ6vltyt%2BcH7r9VyvzPv8N4gY7EYaGEz7DwzCjBKMfbcyrQitEqeJptV4pLaM3WgukEtDwf4Lf8FNf2GPjw6WHg39onQbLVGby5NB8SznSr6OUHDReTdBGdwcghNw44Jr3aKWKeJZ4JVdHUMjo2QwPQg9xXn3xl/ZK/Zj/aGhdPjZ8BvC3iSV12/bdS0aJrpB0%2BScASp/wFhXhr/8EdP2f/CbtP8As7fGv4v/AApIYtDbeB/iJcpbKc5wYrjzdy56rkZpe0zuhpKEKq7xk4P7pKUfukW8J4YZprRxWJwUn9mrShiqa9KlCVGrb/FSb/X61or5I/4ZM/4Kc/DX5/hH/wAFKrbxJap/qdH%2BJPw8tps/795bt5zflTh8Qv8AgtH4GGzxH%2Bzx8EfHSx8bvCfi290x5R6/6apVSfyzR/ak4fxsNUj6RU198JP8hf6iYXE65fnOCrLtKrPDy/8AAcRRgv8AypbzPrWivkv/AIbx/bk8LcfFD/gk143twn%2Bsfwl4303Ws%2B6rEEJ%2BlA/4K1%2BHNI%2BT4g/sKftJeHCv%2Bsm1D4WO8A9w8czbh74o/tvLV8cnH/FCpH84fqL/AIhdxtP/AHehCsv%2BnWIwlX/0jFXfyiz60or5M/4fV/sMWP8AyNereNtBx98ax8PNTTb9dkLU6L/guL/wS5lO0/tPhG7rJ4M1pcfnZ0/7dyXriYL1kl%2BdhPwo8Tt45LipLvGhOS%2B%2BHOvxPrGivlZf%2BC2n/BL9%2Bn7U9r%2BPhfVh/O0q3af8Fmv%2BCZd7/qf2rdKXP/PbRtRj/wDQrcU1neTPbE0//A4/5mUvC7xLgryyTFr/ALlq3/yB9PUV8%2BaX/wAFWv8AgnRrGPsn7Xng9M9PtV60H/oxVrpNL/4KC/sJazgWH7ZPwvLN91JfHVhGx/B5Qa2jmeWz%2BGvB/wDb8f8A5I82vwPxthf42V4mPrh6/wD8pZ6/RXlVz%2B3b%2BxBZ/wDH3%2B2R8Ko/Z/iFpo/9r1Wb/goH%2Bwgpwf20PhV%2BHxA04/8AtarePwC3rQ/8Dj/8kc8eEuLJK8cuxD/7l6//AMoPXqK890D9rf8AZT8V7f8AhF/2mvh7qW77v2DxnYzZ/wC%2BJTXU6d8Rvh7rGP7J8eaNdZ6fZtUhfP8A3yxrWGIw9T4Jp%2BjT/Js8/EZRm%2BDdsRhqkH/ep1I/%2BlU4mzRTYpoZ0EkEqup6MjZBp1bHntNBRRRQAUUUUAFFFFABRRRQAUUUUAFeM%2BOP%2BUhfwv8A%2ByM%2BPP8A07eEK9mrxnxx/wApC/hf/wBkZ8ef%2BnbwhQB7NRRRQAV5/wDH79nzSPj1Z%2BH7keP/ABF4R17wnrh1bwz4r8KNafbtOuGtZ7SXat7b3FvKklvczxsksLr84YAOiOvoFFAHlfhj9lxfh18FLT4GfCH46%2BNfCWnaZZWdto%2BpaYulXN7YiAfvXD31hcJPJcsWeZ50lJd2ZPLJ44f4l/8ABKj9iX4x/AdvgX8VPg5pHiJ2sL%2BBfG%2BvaHYX3iCKe%2Bupby8vI7y4t38qea6nmuGKIqeZKxVFGAPoyigCroeh6J4X0Sz8NeGtHtdO03TrWO20/T7G3WGC2gjUJHFHGgCoiqAoUAAAAAYFfnF/wSb0u61z9r/9rfxxfJmPSvjdcaHpr%2BiHxbq1zMv/AH26H8a/Sevhr/gkv4QfSvD/AO0l40uosTa3%2B2b4xSN8fegt/EXlp%2BTmWvOxtN1cVhvKbf3Ql%2BrPsuGsbHA5FnXeph6dNf8Ab%2BKot/8AktOz8j7lor5i8f8A/BTX/hAvHet%2BBf8Ah3z%2B09rX9i6vc2H9saB8J/tNhf8AkytH59tL9pHmwvt3o%2BBuVlOBmsj/AIew/wDWNT9rT/wzf/3VUSzrLIycXU1X92f/AMrPzSXEOTQk4yq6rT4anTT/AJ9H1pWL8R/h54M%2BLnw%2B1z4VfEbQYtV8P%2BJdIudL1zTJ2ZUurS4iaKaIlCGAZGYZUgjOQQea%2BfPAP/BTX/hPfHei%2BBf%2BHfP7T2i/21q9tYf2xr/wn%2BzWFh50qx%2Bfcy/aT5UKbt7vg7VVjg4r2b9pPxh8Tvh58AvF/wAQfgz4ctNZ8T6DoFzqWj6Lewu6alJAhlNqAjoQ8qo0aNuwrurEMAVPXhsZhsZFyoyulvpJf%2BlRj%2Bp24PH4PMIuWHlzJaPSS8/tRj%2BFzGg/Y1/Z4Xwr4p8Han4Q1LV7Pxr4bt9B8VS%2BIvFep6ndalYQfafJjkubu5kn3p9rnxKHEo3L8/yJtzvA/wCwV%2By18PdSXXPD/gLUptSHi4eKJdW1rxjq2pXlxq40ibRhdzXF5dSyzsNPnlt8SMy7SpxuRGXw3xH/AMFH/ib8SPC1z4x/ZcbQ9VsPEfjubSPhRLF4SXVG8QadYaQt1qt7I1zrelW0McV358Adrhdos3ASVpB5fE%2BDf26viN8XPEeifHiy%2B02unePPhl%2BzvqsfhRtfvfsOlT%2BIvF2u21/JB9mni3OYvJRmOUnW1hWZJYl8o9J2H2H4Y/ZO%2BBHgmx0Sw8HeE73Sl8OeBrTwdok2neI9QhmtNFtXjeC1WVJw52mKPMhYyMAQzsGYG3%2B0X%2Bzb8J/2rPhxJ8JPjVZ67daBNdJcXNnoPjHVNEe4ZVYBJZdNuYJZYvnJMTsYyyoxUsiFflP4J/tU/tQfG79qT4QeMNT8VeEf7E8d/C3x/rfhz4e6VdXuntayWd/o0FtBq0pmuEupY/NKNcJbRG2ke4RYpM5Pt37b%2BreJJ9M%2BFHw3l8Var4d0jx38V7DQ/GepeG9duNPuobM6ff3SQQ3tu0U9v597a2dr5kbRyMtwVUqXFAHfa5%2Bzb8JvFPw8ufhV4vsdb1rQrzw7Bol1Z654v1O9aW2hZnjkMs9w0n2oM277Zu%2B0lkjYykxoV0Pg58FPhx8BPCL%2BCfhlpF1bWc1/PfXk%2BpaxdajeXt1M26S4uLu8lluLmVuAXlkdtqqudqqB4N8GNT/aC%2BKP/BN/xzonwp%2BJlxL43tL3x94b%2BHfjDXNSMk0sdhreq6dpF1NdSCQyP5FvbE3TiQyEecwfcc/Oup/Er9oaS/8AFH7NvhCz8f8Ahu0l%2BMHg/SfDnhrx58Z7yTUrq5udKu77U9IuvEtjd311pkZhtIbxfJmuJcTRRBFF2IUAP0uor8xdN%2BKPxN8a/A5dD%2BJv7SHjfw1J4A%2BD/wATtdtNV0zx5eQv/b2ieJJbDMl8sqvrdrpaRRwRvd7ku450muoDJJsj7bxv%2B2F8Y/EX7ev7PGleN9P%2BK3gzTk8fQeHr/wAN2HgDxDHo/iaa/wDBOs3t1dXF1Hamzu4IL4afHFGZWNsbG%2BupQsSebEAfeF3/AMjtp/8A2Crz/wBGW1alZd3/AMjtp/8A2Crz/wBGW1alABRRRQAUUUUAFFFFABRRRQAUUUUAFFFFABRRRQAUUUUAFFFFABRRRQAUUUUAFeM/sv8A/Jb/ANo7/ss1j/6hXhevZq8Z/Zf/AOS3/tHf9lmsf/UK8L0AezUUUUAFFFFABRRRQAUUUUAFFFFABRRRQAUUUUAFFFFABRRRQAUUUUAeYftqfCHxV8fP2TPiH8HfAr2o1vxB4UvLXR476UpbzXRjJiilYAlYncKjtg4VmODjB8h0L4PfHD42wfHjVfHPwa134ev8bPDQ8OaTZ6pqul3U2iRW%2BjSWwvrw2V5Mm6W4upUjWBpm8u2jaTyy%2B1fq2igD5t/Y3%2BH3xzufjHrPxv8AjN8FLj4fbfhV4V8GW2hXesWF5JeXWmz6pcXV3G1jPMgtN1/HHB5hSYhJWeKLKg27/wAF%2BJPD3/BTbwX4i1b4ueIdds9W%2BD3jh7DQdVttOS00ULq3hLKWzW1pFO4fcM/aJZz8g2lfmz9D184ftH6v8a9H/bw%2BE8/wO%2BH/AIW8Rak3wj8drd2nivxhc6LBHB/anhIl0lt9PvWd920bDGowSd%2BQFIB9H0V4z/wnH/BQv/o1/wCDP/h%2BNW/%2BZej/AITj/goX/wBGv/Bn/wAPxq3/AMy9AHs1FeM/8Jx/wUL/AOjX/gz/AOH41b/5l6P%2BE4/4KF/9Gv8AwZ/8Pxq3/wAy9AHs1FfOOk/tHft26x8Z9f8Agdb/ALKHwkXVPDvhfSNdvLl/jrqnkSQajc6lbwohHhjcXVtLnLAqAA8eCxLBeo/4Tj/goX/0a/8ABn/w/Grf/MvQB7NRXjP/AAnH/BQv/o1/4M/%2BH41b/wCZej/hOP8AgoX/ANGv/Bn/AMPxq3/zL0AezUV4z/wnH/BQv/o1/wCDP/h%2BNW/%2BZeuX8A/tHft2/ETxX438IaP%2Byh8JIbjwH4oi0LVZLn466oEnnk0rT9TDxbfDBJTydRhUlgp3o4xgBmAPo6ivGf8AhOP%2BChf/AEa/8Gf/AA/Grf8AzL0f8Jx/wUL/AOjX/gz/AOH41b/5l6APZqK8Z/4Tj/goX/0a/wDBn/w/Grf/ADL0f8Jx/wAFC/8Ao1/4M/8Ah%2BNW/wDmXoA9mpssEE42zQo49GUGvnP4RftHft2/GXwpd%2BL/AA5%2Byh8JLa3s/FGt6FJHe/HXVFcz6Xqt1pk7jb4YYbGmtJGQ5yUZSQpyo6j/AITj/goX/wBGv/Bn/wAPxq3/AMy9AJtHrjaHoj/f0e1P1t1/wqpd%2BBPA%2BoZ%2B3%2BDdKnz187Tom/mteXf8Jx/wUL/6Nf8Agz/4fjVv/mXo/wCE4/4KF/8ARr/wZ/8AD8at/wDMvUuEHukbRxGIg7xm16Nr8mjtdU/Z4/Z/1zP9t/AzwdeZ6/avDNpJn/vqM1zeq/sK/sS63k6t%2Bx/8L7hj1eTwFpxb/vryc1nf8Jx/wUL/AOjX/gz/AOH41b/5l65f4I/tHft2/Hj4MeEPjj4V/ZQ%2BElrpfjPwvp%2Bu6bbah8ddUWeGC7to7iNJAnhhlDhZAGCswyDgkc1jPCYSp8VOL9Yxf5xPSocQ8Q4X%2BBja0P8ADWqx/wDSaqOwt/8Agn5%2Bwha/6r9jD4VnHQyeANOf/wBChNWV/YS/YgXhf2NvhUPp8PNN/wDjFZ3/AAnH/BQv/o1/4M/%2BH41b/wCZej/hOP8AgoX/ANGv/Bn/AMPxq3/zL1CwGAW1GH/gEf8A5E6JcW8WSd5ZjiH/ANzFf/5eU9f/AOCZv/BPrxJu/tH9jr4fR7uv2Dw3Daf%2BiFTFcvqP/BG7/gmfqmftP7KGjLnr9m1S/h/9F3C12n/Ccf8ABQv/AKNf%2BDP/AIfjVv8A5l65f43ftHft2/Af4MeL/jj4q/ZQ%2BEl1pfgzwvqGu6lbaf8AHXVGnmgtLaS4kSMP4YVS5WMhQzKMkZIHNZTynKqnxYeD/wC3I/8AyJ6GH8QuP8IrUM3xUfTEV/8A5aznJf8Agh9/wTI8wzaf%2BztcWMp/5a2XjXWUI/8AJsj9KZ/w5n/ZV0//AJE3x98V/DgH3V0T4mXyBfp5jPXp3/Ccf8FC/wDo1/4M/wDh%2BNW/%2BZej/hOP%2BChf/Rr/AMGf/D8at/8AMvWP9hZL0w8F6Rt%2BVjvXit4mPSecYmf%2BOq6i%2B6oqi/A8y/4dC/C%2BMYtP2vP2iLf/AK4/FiYfziNH/Dor4fD7v7aH7SAPYj4tS8f%2BQa9N/wCE4/4KF/8ARr/wZ/8AD8at/wDMvR/wnH/BQv8A6Nf%2BDP8A4fjVv/mXo/sLKP8Anyvvl/8AJj/4ip4h/wDQxn/4BQ/%2BZjzL/h0roEX/AB4/8FAP2o7UekHxfYfztzR/w6eRf9V/wUl/awT2Hxi4/wDSWul%2BLv7R37dvwa8KWni/xH%2Byh8JLm3vPFGiaFHHZfHXVGcT6pqtrpkDnd4YUbFmu42c5yEViAxwp6j/hOP8AgoX/ANGv/Bn/AMPxq3/zL0f2HlP/AD6/8mn/APLA/wCIp8f9cc360sK/zwbPMf8Ah1Jdr9z/AIKW/tW/8C%2BLgP8A7bUv/DqjUh93/gpf%2B1V%2BPxXB/wDbavTf%2BE4/4KF/9Gv/AAZ/8Pxq3/zL0f8ACcf8FC/%2BjX/gz/4fjVv/AJl6P7Dyr/n3/wCTVP8A5YH/ABFPj3/oM/8AKOE/%2BYjzL/h1Vq4PH/BTD9qf8fiov/yNR/w6s1rt/wAFMf2pf/DpL/8AI1em/wDCcf8ABQv/AKNf%2BDP/AIfjVv8A5l65fx9%2B0d%2B3b8O/FfgjwhrH7KHwkmuPHniiXQtKktvjrqhSCePStQ1MvLu8MAhPJ06ZQVDHe6DGCWU/sPK/%2Bff/AJNU/wDlgf8AEUuPP%2Bgxf%2BCMJ/8AMZzX/Dq7Xu3/AAUy/aj/AB%2BJ6/8AyNQP%2BCV/iEf85M/2of8Aw5qf/I9em/8ACcf8FC/%2BjX/gz/4fjVv/AJl6P%2BE4/wCChf8A0a/8Gf8Aw/Grf/MvR/YeV/8APv8A8mqf/LA/4ilx5/0Fr/wRhP8A5jPMf%2BHWHiPt/wAFNP2oP/Dlp/8AI9U/gr%2Byxqf7NH/BQvwX/aP7TXxQ%2BI39tfBnxls/4WR4lGo/2f5OreFc/Z8Rp5fmeaN/Xd5UfTHPrX/Ccf8ABQv/AKNf%2BDP/AIfjVv8A5l6oeB/A/wC1Z4x/as8OfG743fDj4e%2BGdG8M/D3xDocMPhX4h32tXV3dalfaJcIzJcaRYpFGiaXKCwd2LSoAuMkbUMqwGGqqpThZr%2B9N/g5tfgefmnHvFudYGeDxuIU6c7XXssPG9mmvehhqclqltNdndXT91ooor0D48KKK%2BYv%2BCj5%2BEY1n4N/8NRnQP%2BFPf8LAu/8AhPf%2BEw8n%2Bw/M/sTUf7P/ALS8/wDc/Z/tWzb537v7T9l/5aeXQB9O0V8CmPwz41/4Je/Dez%2BKnxU8BWlh4O1bSNT1rw38ZvE40/S9X0MzTjStN1qaZJXtxNaPZzIZ4ZS81vEHjfLCvK/iRYfDDWv%2BCWFvpnxx8W/A/wAM%2BMWvvHV78HbbxnoC311/wjsmqX5sbXwqZ5be5tpjB/ZosbqKKVkjS0P2NiUjUA/U6vnL9iDwvpnhX9nnxZe2Cuft37Q/j/U792GcEePNU3twOipGPwWvZLXVfHh%2BD1nrPgvwilz4hfQ7eWz0XxhrL2RM5jQmK7uYre4aNxkh3WGT5gfl5r5m/Ym8Z/t4QfBvWU0D9m74R3MB%2BLnxAaSS8%2BNmqQOJz4w1gzIFXw3ICiyl0R9wLoquUjLGNU0m0%2BxcalSMJQT0la/nZ3X3PU%2Brf%2BE58E/9Dhpf/gwj/wDiqX/hOfBP/Q4aV/4MI/8A4qvLf%2BE4/wCChf8A0a/8Gf8Aw/Grf/MvR/wnH/BQv/o1/wCDP/h%2BNW/%2BZemQepf8Jz4J/wChw0r/AMGEf/xVH/Cc%2BCf%2Bhw0r/wAGEf8A8VXlv/Ccf8FC/wDo1/4M/wDh%2BNW/%2BZej/hOP%2BChf/Rr/AMGf/D8at/8AMvQBqX3wM/Yo1T4caT8HdT%2BDvwtuPCOgXv2zQvCs/h7TX03TbndI3nQWxTyoZN0sp3ooOZHOfmOdDT/hx%2ByjpNra2WleA/h7bQ2VppNpZQ2%2Bl2KLbwaXPJcaZEgCgIlpPLLLbqMCCSR3jCsxJ8z%2BCP7R37dvx4%2BDHhD44%2BFf2UPhJa6X4z8L6frum22ofHXVFnhgu7aO4jSQJ4YZQ4WQBgrMMg4JHNdR/wAJx/wUL/6Nf%2BDP/h%2BNW/8AmXoA1bH4H/sVaX4p1vxzpnwg%2BF1vrfiWC6h8R6xB4f01LrVY7rH2lLmUJvnWXavmByQ%2BBuziug8b6V8APiZ4Iufhl8SNN8HeIPDd5CkV34e1yG0u7GeNGVkR4JQ0bKrKpAK4BUEdBXFf8Jx/wUL/AOjX/gz/AOH41b/5l6P%2BE4/4KF/9Gv8AwZ/8Pxq3/wAy9AHVx%2BDv2ZotCs/C8XhXwIumad4duNA0/TlsbIQWuk3AhE%2Bnxx42payC3gDwACNxBHlTsXGTb/BH9iy0%2BE8nwFtfhD8LovAss/ny%2BC49A05dJeXeJN5swnklt4D5253AHrXBfG79o79u34D/AAY8X/HHxV%2Byh8JLrS/BnhfUNd1K20/466o080FpbSXEiRh/DCqXKxkKGZRkjJA5rqP%2BE4/4KF/9Gv8AwZ/8Pxq3/wAy9AGxrnwa/Y08T%2BGPDngnxJ8KfhjqGjeD545vCWkX2hadLa6JIgAR7OJ0KWzLgYMYUjHFdVrF/wDCLxDqOlavr954bvrvQr9r7Q7q8kt5ZNOumt5rZp4GbJhkMFxcQl0wxjnkTO12B89/4Tj/AIKF/wDRr/wZ/wDD8at/8y9H/Ccf8FC/%2BjX/AIM/%2BH41b/5l6APSbbV9L1zxja3Gi6jBdx2%2BmXKzy20odUZ5ICoJXIBIRuPat2vGf%2BE4/wCChf8A0a/8Gf8Aw/Grf/MvXL/F39o79u34NeFLTxf4j/ZQ%2BElzb3nijRNCjjsvjrqjOJ9U1W10yBzu8MKNizXcbOc5CKxAY4UgH0dRXjP/AAnH/BQv/o1/4M/%2BH41b/wCZej/hOP8AgoX/ANGv/Bn/AMPxq3/zL0AezUV4z/wnH/BQv/o1/wCDP/h%2BNW/%2BZej/AITj/goX/wBGv/Bn/wAPxq3/AMy9AHs1FfOPj79o79u34d%2BK/BHhDWP2UPhJNcePPFEuhaVJbfHXVCkE8elahqZeXd4YBCeTp0ygqGO90GMEsvUf8Jx/wUL/AOjX/gz/AOH41b/5l6APZqK8Z/4Tj/goX/0a/wDBn/w/Grf/ADL0f8Jx/wAFC/8Ao1/4M/8Ah%2BNW/wDmXoA9morxn/hOP%2BChf/Rr/wAGf/D8at/8y9cvq37R37duj/GfQPgdcfsofCRtU8ReF9X12zuU%2BOuqeRHBp1zptvMjk%2BGNwdm1SAqApBCSZKkKGAPo6ivGf%2BE4/wCChf8A0a/8Gf8Aw/Grf/MvR/wnH/BQv/o1/wCDP/h%2BNW/%2BZegD2aivGf8AhOP%2BChf/AEa/8Gf/AA/Grf8AzL0f8Jx/wUL/AOjX/gz/AOH41b/5l6APZqK%2BcdJ/aO/bt1j4z6/8Drf9lD4SLqnh3wvpGu3ly/x11TyJINRudSt4UQjwxuLq2lzlgVAAePBYlgvUf8Jx/wAFC/8Ao1/4M/8Ah%2BNW/wDmXoA9morxn/hOP%2BChf/Rr/wAGf/D8at/8y9H/AAnH/BQv/o1/4M/%2BH41b/wCZegD2aivGf%2BE4/wCChf8A0a/8Gf8Aw/Grf/MvXL%2BAf2jv27fiJ4r8b%2BENH/ZQ%2BEkNx4D8URaFqslz8ddUCTzyaVp%2Bph4tvhgkp5OowqSwU70cYwAzAH0dRXjP/Ccf8FC/%2BjX/AIM/%2BH41b/5l6P8AhOP%2BChf/AEa/8Gf/AA/Grf8AzL0AezV4z%2By//wAlv/aO/wCyzWP/AKhXhej/AITj/goX/wBGv/Bn/wAPxq3/AMy9W/2Vvhz8afB%2BsfFDx38dNA8L6Tqnj74hRa5Z6V4T8S3OrW9raxaDo%2BmKr3FxZWbNI0mnSuVEW0LIg3Mc4APW6KKKACiiigAooooAKKKKACiiigAooooAKKKKACiiigAooooAKKKKACiiigAr5X1b9rT4uQ/tIza4vh3we3w80j4wW3wuaKTSLg6%2Bbi80%2B1uG1CO8%2B0eUkH26W3t2tPs5LJD5/nghYa%2BqK8ZvP2IfhxefH5vjq/jnxUttL4rh8VXPgVLq1/sSfX4tOXTo9UZTb/afNW3SMeULgW5kiSYwmUeZQB7NRRRQAUUUUAfMfhz9pb4mQ/8ABQDxR8H/AIjax4e8J%2BG11%2B00XwZFqPwi1lLrxjB/YEGo4g8RtdrpzSx3dzqAFoIXl8u0mAUFmkX6cryvxZ%2By1B4/%2BMmkfFPx78b/ABrq%2BleHtdj1rQPAFwdMi0ax1CO3eCOcNDZJey7PMkkVJrqSMSPu2fIgX1SgAooooA8X/wCCgvxd%2BOH7P37I/jT49fAK98KR6x4J0K71y6g8YaLc31td2lrbSzPboltdWzJK7IiiQuVQFiUfgV5/48/a0%2BLngv48eLdT8KeHfCEXw88IfGPwj8PvGVnNpFwdb1XVddg0VI9Qhu0uFhjjg/tzSYzFJbyvIkM%2BJY9qCvYf2sf2cbL9rT4Ea9%2Bz7rXxV8U%2BEdJ8T2Utjrl/4QXTvtdzZSxPFNbbr%2B0uo0R1flkRZAVG115zxcH7APg6f4i2fxF8VfHHx9rrHWdJ1zxNo2oS6VFY%2BJ9c0xI0sdWvY7awiZbiIQWmFtmggY2NsXiYx5IB73RRRQAV4v8Atk/F344fBK18A%2BMfhZe%2BFP7G1D4meHPD3i%2Bx8QaLc3N1c2uq6zY6aDZyw3UKW0ka3Msm%2BRJ1JRF2ck17RXlX7V37Lb/tVeG9C8Lz/H3xv4Gt9C8SWGuo3guHR2e7vbG8gvLNpTqWn3g2xXFvG4WMIG5WTep2gA84/Z5/aV%2BJmt/tV%2BLfgj8UNX8PeE9Oh8U63b%2BCfCUnwi1nTLnXraF0lN/b63cXf2DUHYySyyxW0BcZLsVwxP05Xkuk/soh/jJovxl%2BI/7QHjvxrN4Xu7y78J6F4hGkw2Gj3VzbyWslxEthp9tLK/2eaeFfPklVFnfaASCPWqACiiigDwf9rX4zftBfAbxJ4X8XeDPEHgi98Pa14u0Lw7beBb7w5eSa5rlze3yw3LWl7HerFCYLVpLrY1pMPLtJmd40BePj/wBiX9rT4ufFTXvhxpnj/wAO%2BELLwv8AF/4OXHxB%2BGWn%2BFtIuLSbQNKtp9LQafetJcSx3Mn2fWtOYSwx26K0c6eUQFavQviT%2BxyvxE/ad0T9qa3/AGjviBoWq%2BH9DGlaZoGmQ6JcaXBA83m3LRpfaZcTQy3IEcc0sUqO0cMaKyAcn7PP7EPw4/Zx8XReKvDfjjxVrUek%2BHpfD3grSPEF1ava%2BEtFkuEuH06wEFvFJ5JeG2Gbh55QlpAgkCoBQB7NRRRQAV8v/tc/Hj9pf4LfETT/AAppUPgDxro/jmHWrbRfhzF4PvpNYS1tNDuruS/uJxevFdWwuore2khFrED9vhQTGRkST6grw6b9ia4j/aP8V/tNaJ%2B1X8S9O1fxbpsOnXOlwweH57TT7OGBo4baza50mW5t4lld7rYs2153LuHB20AM/YQ/aE8b/Hz4eXl18V/H2jX3i7ThZtr/AIbsvhdq/hG80B57ZZRBc2Or3U9w4Lb/AC7gCOORUO0NtJr3SvN/gd%2Bzdp3wZ8T%2BJPiHrHxS8U%2BOPFXiuKxt9Y8T%2BLmsFuXtLMTfZbVItPtbW2jija5uXG2EMzXEhZmyMekUAFFFFAHxR%2B0x%2B3D8fvgd8fb/AOA%2Bo6b4Q8WjWHsk8Jf2j8M9X0W20fUb3xDoemaQz3l3eS2/iBI5dYhluG08RNbtafP5LSoq%2B/8A7Kvxf%2BJHxGHj/wCH3xiOiT%2BKvhp48bw1rOq%2BGtOms7DU/M0vTtWt7iG3mnnkt82uqW6PG00uJI5MMQRjlviX/wAE8/Bvxt1648QfG34%2BfEXxU9tHcf8ACHQ39zpVsnhG4kure6ju7A2dhCz3EMtpbGKS7a5KeV33vv8AR/gH8BdD%2BAfh7VtNsvF%2BueJNW8Ra9NrXifxR4le2N/q99JHFD50wtYIIF2QQW8CJFFGixwRqF4JIB3VFFFABXxN%2B1F%2B2P%2B1h8HfjN4o%2BFfg/w14c8b6rpfhi/wDEPhKNPgnr8MmkOl3p9vCsLm9dfE0n2TU51mGl%2BU8LRFZBH5wjH2zXiOtfsX6j4i8ft8T9c/a0%2BKFzrdhb3sPg27dNBC%2BFVu5oXnNpGNKCTs0cKQBr0XRWIuAQzs5AOl/ZU%2BLc3xl%2BFI8Taj8TtG8U6ja6rc2OrXWj%2BCL/AMNmzuIm%2Ba1n0zUbie6tJ0UruSZgxDK21VYV6TXCfAP4B6B8AdC1mx0/xbrniPVfE3iCXXPE/ibxJLbte6rfyQwwebILaGGCMLBb28KpFFGipCgC5yT3dABRRRQAUUUUAFFFFABRRRQBR8UeIbDwl4a1HxXqoc2umWM13ciJct5caF2wO5wpr5z/AGJv2k/jX4/8U6P4M%2BNnh7wZZjx18LbL4jeGYfBmlXFoNMjvLgm70%2B7M1xKLuaN7m2f7YggE7SzEwR7QX%2Blru0tb%2B1lsb23SaGaNo5opVDK6kYKkHggjjFeQ/szfsV%2BAv2YNVfV9A%2BIPi3xLLbeGLHwz4dHiy9tZhoGhWbyPb6bam3t4S0amT5pZzNcSCOLzJn8tcAHsVFFFABXC/tQePPiL8LP2aPiJ8Tvg/wCFF17xb4c8C6vqnhbQ2sZroajqNvZyy21sYYGWWYSSoieXGwdt2FIJBruqzvFuiX/iXwxqHh/S/Feo6Fc3tpJDb61pCwNdWLspAmiFxFLEXU8gSRumR8ysMggHl37FPxan%2BKPwzvrLVviFoGs6n4d1RdOvNM0T4Yap4OfQ0FtBJFZ3Glapcz3MLhHEiu3lo8UsWxMDe/sVeefAf9nbSfgdeeJfEdz8RPEnjHxJ4v1GG88ReKfFb2Yu7ow26W8EQjsba2tooo40AVY4UyWdmLMzMfQ6ACiiigD5c/ao/ax%2BKH7OHxe8cWXxK0bwl4i%2BF9h%2Bzv4v8e22hW%2BiXCaq7aINLWe2uLmS5e3minW%2BnAQWyFQiZd8sK7f9mf4v/HzVPi54y/Z1/aWfwleeKPDHhjw94lj1XwVpNzY2Ullqz6lbrbGG5ublzLDcaRdgyiQLIjxN5cZ3LUHxj/YV8O/HT46t8ZfHnx28cy6bN4K1PwjffD2GDRf7Eu9G1Jbb7faSF9Na9Ina0gdnF0HUoQjIjMh6T9nf9l3Q/wBn2%2B1rxHP8UPFvjfxDr9rYWV/4n8bXNpJemwsUkWzsx9ktrePyojPcOCUMjvcyu7uzZoA9PooooAK%2BRPjX%2B0v%2B1t4L1z9oDwLb%2BFfBniy98BeH/CniT4bWOk/D/U7%2BdY9R1XUoQl3axXjy6jPAumxzqbYW5LkhV%2BVWr67rwuX9ijxDF8dPG3x/0L9tD4raVq3jfSLHTLmxsrPww1ppttZXFzPZpbCXRXk/dG8ulBmeUus5EnmFUKgHV/sqfFub4y/CkeJtR%2BJ2jeKdRtdVubHVrrR/BF/4bNncRN81rPpmo3E91aTopXckzBiGVtqqwr0muE%2BAfwD0D4A6FrNjp/i3XPEeq%2BJvEEuueJ/E3iSW3a91W/khhg82QW0MMEYWC3t4VSKKNFSFAFzknu6ACiiigD42/aW/a7/aW/Z4%2BM0Hw21lPhn41vtbggm8Iw6d4WvbSXwXeal4h0zw9pE2pyvfTC6inbV5wWiWzkcWN0sYZfMMXuP7Kvxf%2BJHxGHj/AOH3xiOiT%2BKvhp48bw1rOq%2BGtOms7DU/M0vTtWt7iG3mnnkt82uqW6PG00uJI5MMQRjhbb/gmr4Sa6%2BIb%2BIf2l/idrNv8SdeOuaxb6kdC8yz1KK4hn0%2B5trqLS0ulNg9vbi0jeaSKJYUDI/OfWPgH8BdD%2BAfh7VtNsvF%2BueJNW8Ra9NrXifxR4le2N/q99JHFD50wtYIIF2QQW8CJFFGixwRqF4JIB3VFFFADLn7T9mk%2Bx7PO2HyvNzt3Y4zjnGa%2BIPit%2B1z%2B2n8NPiJrnw2t7bwH4z17wxe%2BGrfVvHXgj4K6/q0fhy31Zrx72wl0qz1Ke7uZo4bKxuiYp0/d3ULSwIDE0n29dwyXFrLbw3UkDyRsqzxBS8ZIwGXcCuR1GQR6g189/Bj9gLxB8BPhtcfDT4d/t1fGKKO61Z9Tm1m8svCc%2BoS3cryyXM80z6EftMk7y7pJJxI%2BY02FAMEA9Z%2BAnxDsvit8HfD/wAQrD4gaN4qTU9PEj6/4f0mawtLuQErIUtZ5ppbYq6sjQySO8bKysdykDr65L4F/Bfwl%2Bz78L9O%2BFPgq5v7iysJbq4mvtVuRNdX13dXMt1dXUzhVDSzXE80r7VVd0h2qq4UdbQAVR8Tw%2BJLnw3qFv4N1OxstXkspV0u81Owe6toLgoRHJLDHLE00atgsiyRlgCA6k7herN8Y6Df%2BKPC1/4d0vxbqWg3N5avFBrWjiA3Vi5HE0QuIpYi6nkCSN0OPmVhkUAfE3wp/bg/ay%2BN3xcv/gB8K7H4fw%2BOUfW5x428V/C3WtEj1DSdItNFk%2BzTaFd36ajYyteeI4o45J5ihhWW4jidZVB%2Btv2bPjNp/wC0d%2Bzp4B/aG0rSJNPtfHngrSvEVtYTSbnto72ziuViZsDJUShScDOK8i1D/gmp4O1HW7r4kP8AtLfFKH4iahPcrqXxPtbzSItYurGe0gtZdO8tdNFlFbGO1tmAito5FlhWUSCTLn3v4feA/Cfws8BaJ8MfAejx6dofhzSLbS9F0%2BIkpbWlvEsUMS5ycKiKoz6UAa9FFFAHL/GnUfHGjfC3Wtb%2BHPiGx0vVrCzN1Dfah4PvfECJHGQ8oGnWM8FzeSNErqkUMgcuy4Vz8jfFvw1/4KI/H7XPEPh7XfGFx4R8CeDdTl1H/hKPHl78DPEVxa6je2uuyaTF9qZL6NfDMstrbRExaozyW7ERv9zZX238TPBmu%2BPfCU3hzw38Utf8G3kksbxa/wCGYrF7uDawJVVv7a5gYMAVIeJuCcYOCPFdQ/4JzeFNX8A3vwo1T9pD4m3HhfxHc3dz8QtDe40fZ4ynu7l57uS%2BlGmieHzg4haOyktYxCioqKASQD6JooooAKKKKACiiigAooooAKKKKACiiigAooooAKKKKACiiigAooooAKKKKACiiigAooooAKKKKACiiigAooooAKKKKACiiigAooooAKKKKACiiigAooooAKKKKACiiigAooooAKKKKACiiigAooooAKKKKACiiigAooooAKKKKACiiigAooooAKKKKACiiigAooooAKKKKACiiigAooooAKKKKACiiigAooooAKKKKACiiigAooooAKKKKACiiigAooooAKKKKACiiigAooooAKKKKACiiigAooooAKKKKACiiigAooooAKKKKACiiigAooooA//Z\">"
      ]
     },
     "metadata": {},
     "output_type": "display_data"
    }
   ],
   "source": [
    "s.run(tf.global_variables_initializer())\n",
    "\n",
    "BATCH_SIZE = 512\n",
    "EPOCHS = 40\n",
    "\n",
    "# for logging the progress right here in Jupyter (for those who don't have TensorBoard)\n",
    "simpleTrainingCurves = matplotlib_utils.SimpleTrainingCurves(\"cross-entropy\", \"accuracy\")\n",
    "\n",
    "for epoch in range(EPOCHS):  # we finish an epoch when we've looked at all training samples\n",
    "    \n",
    "    batch_losses = []\n",
    "    for batch_start in range(0, X_train_flat.shape[0], BATCH_SIZE):  # data is already shuffled\n",
    "        _, batch_loss = s.run([step, loss], {input_X: X_train_flat[batch_start:batch_start+BATCH_SIZE], \n",
    "                                             input_y: y_train_oh[batch_start:batch_start+BATCH_SIZE]})\n",
    "        # collect batch losses, this is almost free as we need a forward pass for backprop anyway\n",
    "        batch_losses.append(batch_loss)\n",
    "\n",
    "    train_loss = np.mean(batch_losses)\n",
    "    val_loss = s.run(loss, {input_X: X_val_flat, input_y: y_val_oh})  # this part is usually small\n",
    "    train_accuracy = accuracy_score(y_train, s.run(classes, {input_X: X_train_flat}))  # this is slow and usually skipped\n",
    "    valid_accuracy = accuracy_score(y_val, s.run(classes, {input_X: X_val_flat}))  \n",
    "    simpleTrainingCurves.add(train_loss, val_loss, train_accuracy, valid_accuracy)\n"
   ]
  },
  {
   "cell_type": "markdown",
   "metadata": {},
   "source": [
    "# Submit a linear model"
   ]
  },
  {
   "cell_type": "code",
   "execution_count": 74,
   "metadata": {
    "collapsed": true
   },
   "outputs": [],
   "source": [
    "## GRADED PART, DO NOT CHANGE!\n",
    "# Testing shapes \n",
    "grader.set_answer(\"9XaAS\", grading_utils.get_tensors_shapes_string([W, b, input_X, input_y, logits, probas, classes]))\n",
    "# Validation loss\n",
    "grader.set_answer(\"vmogZ\", s.run(loss, {input_X: X_val_flat, input_y: y_val_oh}))\n",
    "# Validation accuracy\n",
    "grader.set_answer(\"RMv95\", accuracy_score(y_val, s.run(classes, {input_X: X_val_flat})))"
   ]
  },
  {
   "cell_type": "code",
   "execution_count": 75,
   "metadata": {},
   "outputs": [
    {
     "name": "stdout",
     "output_type": "stream",
     "text": [
      "Submitted to Coursera platform. See results on assignment page!\n"
     ]
    }
   ],
   "source": [
    "# you can make submission with answers so far to check yourself at this stage\n",
    "grader.submit(COURSERA_EMAIL, COURSERA_TOKEN)"
   ]
  },
  {
   "cell_type": "markdown",
   "metadata": {},
   "source": [
    "# Adding more layers"
   ]
  },
  {
   "cell_type": "markdown",
   "metadata": {},
   "source": [
    "Let's add a couple of hidden layers and see how that improves our validation accuracy.\n",
    "\n",
    "Previously we've coded a dense layer with matrix multiplication by hand. \n",
    "But this is not convinient, you have to create a lot of variables and your code becomes a mess. \n",
    "In TensorFlow there's an easier way to make a dense layer:\n",
    "```python\n",
    "hidden1 = tf.layers.dense(inputs, 256, activation=tf.nn.sigmoid)\n",
    "```\n",
    "\n",
    "That will create all the necessary variables automatically.\n",
    "Here you can also choose an activation function (rememeber that we need it for a hidden layer!).\n",
    "\n",
    "Now add 2 hidden layers to the code above and restart training.\n",
    "You're aiming for ~0.97 validation accuracy here."
   ]
  },
  {
   "cell_type": "code",
   "execution_count": 87,
   "metadata": {
    "collapsed": true
   },
   "outputs": [],
   "source": [
    "# you can write the code here to get a new `step` operation and then run cells with training loop above\n",
    "# name your variables in the same way (e.g. logits, probas, classes, etc) for safety\n",
    "### YOUR CODE HERE ###\n",
    "\n",
    "\n",
    "hidden1 = tf.layers.dense(input_X, 256, activation=tf.nn.sigmoid)\n",
    "hidden2 = tf.layers.dense(hidden1, 256, activation=tf.nn.sigmoid)\n",
    "\n",
    "\n",
    "#hidden2 = tf.layers.dense(hidden1, 256, activation=tf.nn.sigmoid)\n",
    "\n",
    "logits = tf.layers.dense(hidden1, 10, activation=None) ### YOUR CODE HERE ### logits for input_X, resulting shape should be [input_X.shape[0], 10]\n",
    "probas = tf.nn.softmax(logits) ### YOUR CODE HERE ### apply tf.nn.softmax to logits\n",
    "classes = tf.argmax(probas, 1) ### YOUR CODE HERE ### apply tf.argmax to find a class index with highest probability\n",
    "\n",
    "# Loss should be a scalar number: average loss over all the objects with tf.reduce_mean().\n",
    "# Use tf.nn.softmax_cross_entropy_with_logits on top of one-hot encoded input_y and logits.\n",
    "# It is identical to calculating cross-entropy on top of probas, but is more numerically friendly (read the docs).\n",
    "loss = tf.reduce_mean(tf.nn.softmax_cross_entropy_with_logits(labels = input_y, logits = logits), axis = 0)### YOUR CODE HERE ### cross-entropy loss\n",
    "\n",
    "# Use a default tf.train.AdamOptimizer to get an SGD step\n",
    "step = tf.train.AdamOptimizer(0.01).minimize(loss) ### YOUR CODE HERE ### optimizer step that minimizes the loss\n"
   ]
  },
  {
   "cell_type": "markdown",
   "metadata": {},
   "source": [
    "# Submit a 2-layer MLP\n",
    "Run these cells after training a 2-layer MLP"
   ]
  },
  {
   "cell_type": "code",
   "execution_count": 92,
   "metadata": {},
   "outputs": [],
   "source": [
    "## GRADED PART, DO NOT CHANGE!\n",
    "# Validation loss for MLP\n",
    "grader.set_answer(\"i8bgs\", s.run(loss, {input_X: X_val_flat, input_y: y_val_oh}))\n",
    "# Validation accuracy for MLP\n",
    "grader.set_answer(\"rE763\", accuracy_score(y_val, s.run(classes, {input_X: X_val_flat})))"
   ]
  },
  {
   "cell_type": "code",
   "execution_count": 93,
   "metadata": {},
   "outputs": [
    {
     "name": "stdout",
     "output_type": "stream",
     "text": [
      "Submitted to Coursera platform. See results on assignment page!\n"
     ]
    }
   ],
   "source": [
    "# you can make submission with answers so far to check yourself at this stage\n",
    "grader.submit(COURSERA_EMAIL, COURSERA_TOKEN)"
   ]
  },
  {
   "cell_type": "code",
   "execution_count": null,
   "metadata": {
    "collapsed": true
   },
   "outputs": [],
   "source": []
  }
 ],
 "metadata": {
  "kernelspec": {
   "display_name": "Python 3",
   "language": "python",
   "name": "python3"
  },
  "language_info": {
   "codemirror_mode": {
    "name": "ipython",
    "version": 3
   },
   "file_extension": ".py",
   "mimetype": "text/x-python",
   "name": "python",
   "nbconvert_exporter": "python",
   "pygments_lexer": "ipython3",
   "version": "3.6.0"
  }
 },
 "nbformat": 4,
 "nbformat_minor": 1
}
